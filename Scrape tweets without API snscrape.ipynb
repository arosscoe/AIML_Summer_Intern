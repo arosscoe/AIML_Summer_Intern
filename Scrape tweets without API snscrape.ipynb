{
 "cells": [
  {
   "cell_type": "markdown",
   "id": "d25b23f4",
   "metadata": {},
   "source": [
    "# Scrape tweets with snscrape and save as a CSV file."
   ]
  },
  {
   "cell_type": "markdown",
   "id": "e4090eb1",
   "metadata": {},
   "source": [
    "This is an alternate method to scrape tweets with snscrape. There **Does not appear to be a limit on amount of tweets that can be scraped**. \n",
    "\n",
    "This method will still require pre-processing techniques done by the last years research team, but these tweets are all modern as you can see the dates of the tweets scraped are from today (6/28/2022)."
   ]
  },
  {
   "cell_type": "code",
   "execution_count": 1,
   "id": "655501b9",
   "metadata": {},
   "outputs": [
    {
     "data": {
      "text/html": [
       "<div>\n",
       "<style scoped>\n",
       "    .dataframe tbody tr th:only-of-type {\n",
       "        vertical-align: middle;\n",
       "    }\n",
       "\n",
       "    .dataframe tbody tr th {\n",
       "        vertical-align: top;\n",
       "    }\n",
       "\n",
       "    .dataframe thead th {\n",
       "        text-align: right;\n",
       "    }\n",
       "</style>\n",
       "<table border=\"1\" class=\"dataframe\">\n",
       "  <thead>\n",
       "    <tr style=\"text-align: right;\">\n",
       "      <th></th>\n",
       "      <th>Date</th>\n",
       "      <th>User</th>\n",
       "      <th>Tweet</th>\n",
       "    </tr>\n",
       "  </thead>\n",
       "  <tbody>\n",
       "    <tr>\n",
       "      <th>0</th>\n",
       "      <td>2022-06-28 15:30:40+00:00</td>\n",
       "      <td>ArtyStaciNadi</td>\n",
       "      <td>@ihavebrewster Hear hear!  I haaaate coffee, b...</td>\n",
       "    </tr>\n",
       "    <tr>\n",
       "      <th>1</th>\n",
       "      <td>2022-06-28 15:30:40+00:00</td>\n",
       "      <td>MartyrNobleStag</td>\n",
       "      <td>@lydialovesScott Your welcome. In our house we...</td>\n",
       "    </tr>\n",
       "    <tr>\n",
       "      <th>2</th>\n",
       "      <td>2022-06-28 15:30:38+00:00</td>\n",
       "      <td>PenGwenTheManic</td>\n",
       "      <td>@esaagar I'm sorry but you think that drip cof...</td>\n",
       "    </tr>\n",
       "    <tr>\n",
       "      <th>3</th>\n",
       "      <td>2022-06-28 15:30:37+00:00</td>\n",
       "      <td>mz_almag</td>\n",
       "      <td>@coffee_012 🤣🤣🤣</td>\n",
       "    </tr>\n",
       "    <tr>\n",
       "      <th>4</th>\n",
       "      <td>2022-06-28 15:30:37+00:00</td>\n",
       "      <td>LezCue</td>\n",
       "      <td>Period+coffee= automatic regret</td>\n",
       "    </tr>\n",
       "  </tbody>\n",
       "</table>\n",
       "</div>"
      ],
      "text/plain": [
       "                       Date             User  \\\n",
       "0 2022-06-28 15:30:40+00:00    ArtyStaciNadi   \n",
       "1 2022-06-28 15:30:40+00:00  MartyrNobleStag   \n",
       "2 2022-06-28 15:30:38+00:00  PenGwenTheManic   \n",
       "3 2022-06-28 15:30:37+00:00         mz_almag   \n",
       "4 2022-06-28 15:30:37+00:00           LezCue   \n",
       "\n",
       "                                               Tweet  \n",
       "0  @ihavebrewster Hear hear!  I haaaate coffee, b...  \n",
       "1  @lydialovesScott Your welcome. In our house we...  \n",
       "2  @esaagar I'm sorry but you think that drip cof...  \n",
       "3                                    @coffee_012 🤣🤣🤣  \n",
       "4                    Period+coffee= automatic regret  "
      ]
     },
     "execution_count": 1,
     "metadata": {},
     "output_type": "execute_result"
    }
   ],
   "source": [
    "# snscrape is a scraper for social networking services (SNS). \n",
    "# it scrapes things like user profiles, hashtags, or searches and returns the discovered items, e.g. the relevant posts.\n",
    "\n",
    "import snscrape.modules.twitter as sntwitter\n",
    "import pandas as pd\n",
    "\n",
    "query = \" Coffee \"\n",
    "\n",
    "#scrapes only 100 tweets\n",
    "tweets = []\n",
    "limits = 100\n",
    "\n",
    "for tweet in sntwitter.TwitterSearchScraper(query).get_items():\n",
    "    if len(tweets) == limits:\n",
    "        break\n",
    "    else:\n",
    "        tweets.append([tweet.date, tweet.user.username, tweet.content])\n",
    "\n",
    "df = pd.DataFrame(tweets, columns=['Date', 'User', 'Tweet'])\n",
    "df.head()\n"
   ]
  },
  {
   "cell_type": "code",
   "execution_count": 2,
   "id": "bff1d1ae",
   "metadata": {},
   "outputs": [],
   "source": [
    "# Save the dataframe as a csv file.\n",
    "df.to_csv('tweets.csv')"
   ]
  }
 ],
 "metadata": {
  "kernelspec": {
   "display_name": "Python 3 (ipykernel)",
   "language": "python",
   "name": "python3"
  },
  "language_info": {
   "codemirror_mode": {
    "name": "ipython",
    "version": 3
   },
   "file_extension": ".py",
   "mimetype": "text/x-python",
   "name": "python",
   "nbconvert_exporter": "python",
   "pygments_lexer": "ipython3",
   "version": "3.9.12"
  }
 },
 "nbformat": 4,
 "nbformat_minor": 5
}
