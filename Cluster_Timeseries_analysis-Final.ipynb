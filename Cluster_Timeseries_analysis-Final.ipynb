{
 "cells": [
  {
   "cell_type": "markdown",
   "metadata": {},
   "source": [
    "# Clustering and Time Series Analysis\n",
    "   ### This Model groups tweets into different categories based off of key words. This is an effort to analayze the trend of the twitter data set provided. The text of the tweets are analyzed and given a Jaccard similarity score to correctly categorize it into the corresponding group.\n",
    "   \n",
    "   ### It outputs graphs to display the user's who are tweeting the most about the corresponding category. For example the bar graphs display the user who has the most economic tweets etc. Next there are distribution test and skewness to analyze trends within each category. \n",
    "   \n",
    "   ### Next we analyze 2D Clusters by Kmeans to cross reference the clusters of tweets between each group.\n",
    "   \n",
    "   ### At the end there is a bonus time series analysis portion that can analyze trends of the tweets by weekday and week.\n",
    "    "
   ]
  },
  {
   "cell_type": "markdown",
   "metadata": {},
   "source": [
    "# Important Notes:\n",
    "    This model is easy to use as you only need to extract tweets with the same format as the dataframe provided below.\n",
    "        Afterwards, one will simply just input their own csv file to be read into the application.\n",
    "    This model is easy to follow as each cell clearly demonstrates the steps.\n",
    "    The words used in each category can be updated / removed at any time to improve the effectiveness of the output."
   ]
  },
  {
   "cell_type": "code",
   "execution_count": 1,
   "metadata": {},
   "outputs": [
    {
     "name": "stderr",
     "output_type": "stream",
     "text": [
      "C:\\Users\\aross\\anaconda3\\lib\\site-packages\\scipy\\__init__.py:146: UserWarning: A NumPy version >=1.16.5 and <1.23.0 is required for this version of SciPy (detected version 1.23.0\n",
      "  warnings.warn(f\"A NumPy version >={np_minversion} and <{np_maxversion}\"\n",
      "[nltk_data] Downloading package stopwords to\n",
      "[nltk_data]     C:\\Users\\aross\\AppData\\Roaming\\nltk_data...\n",
      "[nltk_data]   Package stopwords is already up-to-date!\n",
      "[nltk_data] Downloading package wordnet to\n",
      "[nltk_data]     C:\\Users\\aross\\AppData\\Roaming\\nltk_data...\n",
      "[nltk_data]   Package wordnet is already up-to-date!\n"
     ]
    }
   ],
   "source": [
    "import pandas as pd\n",
    "import numpy as np\n",
    "import seaborn as sns\n",
    "import matplotlib.pyplot as plt\n",
    "\n",
    "import tweepy\n",
    "import csv\n",
    "import os\n",
    "import pandas as pd\n",
    "\n",
    "import numpy as np \n",
    "import pandas as pd\n",
    "import matplotlib.pyplot as plt\n",
    "import seaborn as sns\n",
    "import re\n",
    "import spacy\n",
    "from sklearn.model_selection import train_test_split\n",
    "import nltk\n",
    "nltk.download('stopwords')\n",
    "nltk.download('wordnet')\n",
    "from nltk.tokenize import RegexpTokenizer, WhitespaceTokenizer\n",
    "from nltk.stem import WordNetLemmatizer\n",
    "from nltk.corpus import stopwords\n",
    "import string\n",
    "from string import punctuation\n",
    "import collections\n",
    "from collections import Counter\n",
    "from sklearn.feature_extraction.text import CountVectorizer, TfidfVectorizer\n",
    "import en_core_web_sm\n",
    "\n",
    "from sklearn.feature_extraction.text import CountVectorizer, TfidfTransformer\n",
    "from sklearn.metrics.pairwise import cosine_similarity\n",
    "\n",
    "# !pip3 install -U spacy\n",
    "# !python3 -m spacy download en_core_web_sm\n",
    "\n",
    "from sklearn.metrics import jaccard_score"
   ]
  },
  {
   "cell_type": "code",
   "execution_count": 2,
   "metadata": {},
   "outputs": [
    {
     "data": {
      "text/html": [
       "<div>\n",
       "<style scoped>\n",
       "    .dataframe tbody tr th:only-of-type {\n",
       "        vertical-align: middle;\n",
       "    }\n",
       "\n",
       "    .dataframe tbody tr th {\n",
       "        vertical-align: top;\n",
       "    }\n",
       "\n",
       "    .dataframe thead th {\n",
       "        text-align: right;\n",
       "    }\n",
       "</style>\n",
       "<table border=\"1\" class=\"dataframe\">\n",
       "  <thead>\n",
       "    <tr style=\"text-align: right;\">\n",
       "      <th></th>\n",
       "      <th>Unnamed: 0</th>\n",
       "      <th>User</th>\n",
       "      <th>Date Created</th>\n",
       "      <th>Tweet</th>\n",
       "      <th>Favourite Count</th>\n",
       "      <th>Number of Likes</th>\n",
       "      <th>Retweeet Count</th>\n",
       "      <th>Reply Count</th>\n",
       "      <th>Retweeted Tweet</th>\n",
       "      <th>Language</th>\n",
       "    </tr>\n",
       "  </thead>\n",
       "  <tbody>\n",
       "    <tr>\n",
       "      <th>0</th>\n",
       "      <td>0</td>\n",
       "      <td>Makarov_Igor</td>\n",
       "      <td>2022-07-28 23:59:59+00:00</td>\n",
       "      <td>It is sad, but we are officially in #recession...</td>\n",
       "      <td>98</td>\n",
       "      <td>0</td>\n",
       "      <td>0</td>\n",
       "      <td>0</td>\n",
       "      <td>NaN</td>\n",
       "      <td>en</td>\n",
       "    </tr>\n",
       "    <tr>\n",
       "      <th>1</th>\n",
       "      <td>1</td>\n",
       "      <td>quail_jay</td>\n",
       "      <td>2022-07-28 23:59:56+00:00</td>\n",
       "      <td>@tedcruz Orwell said the greatest threat by so...</td>\n",
       "      <td>1896</td>\n",
       "      <td>0</td>\n",
       "      <td>0</td>\n",
       "      <td>0</td>\n",
       "      <td>NaN</td>\n",
       "      <td>en</td>\n",
       "    </tr>\n",
       "    <tr>\n",
       "      <th>2</th>\n",
       "      <td>2</td>\n",
       "      <td>ShibaInuOnly</td>\n",
       "      <td>2022-07-28 23:59:55+00:00</td>\n",
       "      <td>Glad to be part of the 1% that remains bullish...</td>\n",
       "      <td>5</td>\n",
       "      <td>7</td>\n",
       "      <td>2</td>\n",
       "      <td>0</td>\n",
       "      <td>NaN</td>\n",
       "      <td>en</td>\n",
       "    </tr>\n",
       "    <tr>\n",
       "      <th>3</th>\n",
       "      <td>3</td>\n",
       "      <td>BenSpin2</td>\n",
       "      <td>2022-07-28 23:59:55+00:00</td>\n",
       "      <td>@HawleyMO I think we'll call this the Hawley r...</td>\n",
       "      <td>9</td>\n",
       "      <td>0</td>\n",
       "      <td>0</td>\n",
       "      <td>0</td>\n",
       "      <td>NaN</td>\n",
       "      <td>en</td>\n",
       "    </tr>\n",
       "    <tr>\n",
       "      <th>4</th>\n",
       "      <td>4</td>\n",
       "      <td>RJCass1</td>\n",
       "      <td>2022-07-28 23:59:55+00:00</td>\n",
       "      <td>@ArowynPitts @BCozatt @MarshaBlackburn FYI, ge...</td>\n",
       "      <td>9092</td>\n",
       "      <td>1</td>\n",
       "      <td>0</td>\n",
       "      <td>0</td>\n",
       "      <td>NaN</td>\n",
       "      <td>en</td>\n",
       "    </tr>\n",
       "  </tbody>\n",
       "</table>\n",
       "</div>"
      ],
      "text/plain": [
       "   Unnamed: 0          User               Date Created  \\\n",
       "0           0  Makarov_Igor  2022-07-28 23:59:59+00:00   \n",
       "1           1     quail_jay  2022-07-28 23:59:56+00:00   \n",
       "2           2  ShibaInuOnly  2022-07-28 23:59:55+00:00   \n",
       "3           3      BenSpin2  2022-07-28 23:59:55+00:00   \n",
       "4           4       RJCass1  2022-07-28 23:59:55+00:00   \n",
       "\n",
       "                                               Tweet  Favourite Count  \\\n",
       "0  It is sad, but we are officially in #recession...               98   \n",
       "1  @tedcruz Orwell said the greatest threat by so...             1896   \n",
       "2  Glad to be part of the 1% that remains bullish...                5   \n",
       "3  @HawleyMO I think we'll call this the Hawley r...                9   \n",
       "4  @ArowynPitts @BCozatt @MarshaBlackburn FYI, ge...             9092   \n",
       "\n",
       "   Number of Likes  Retweeet Count  Reply Count  Retweeted Tweet Language  \n",
       "0                0               0            0              NaN       en  \n",
       "1                0               0            0              NaN       en  \n",
       "2                7               2            0              NaN       en  \n",
       "3                0               0            0              NaN       en  \n",
       "4                1               0            0              NaN       en  "
      ]
     },
     "execution_count": 2,
     "metadata": {},
     "output_type": "execute_result"
    }
   ],
   "source": [
    "tweets = pd.read_csv('Recession-June-July-500k-Tweets.csv')\n",
    "tweets.head()"
   ]
  },
  {
   "cell_type": "code",
   "execution_count": 3,
   "metadata": {},
   "outputs": [
    {
     "name": "stdout",
     "output_type": "stream",
     "text": [
      "<class 'pandas.core.frame.DataFrame'>\n",
      "RangeIndex: 500001 entries, 0 to 500000\n",
      "Data columns (total 10 columns):\n",
      " #   Column           Non-Null Count   Dtype  \n",
      "---  ------           --------------   -----  \n",
      " 0   Unnamed: 0       500001 non-null  int64  \n",
      " 1   User             500001 non-null  object \n",
      " 2   Date Created     500001 non-null  object \n",
      " 3   Tweet            500001 non-null  object \n",
      " 4   Favourite Count  500001 non-null  int64  \n",
      " 5   Number of Likes  500001 non-null  int64  \n",
      " 6   Retweeet Count   500001 non-null  int64  \n",
      " 7   Reply Count      500001 non-null  int64  \n",
      " 8   Retweeted Tweet  0 non-null       float64\n",
      " 9   Language         500001 non-null  object \n",
      "dtypes: float64(1), int64(5), object(4)\n",
      "memory usage: 38.1+ MB\n"
     ]
    }
   ],
   "source": [
    "tweets.info()"
   ]
  },
  {
   "cell_type": "code",
   "execution_count": 4,
   "metadata": {},
   "outputs": [
    {
     "data": {
      "text/plain": [
       "Index(['Unnamed: 0', 'User', 'Date Created', 'Tweet', 'Favourite Count',\n",
       "       'Number of Likes', 'Retweeet Count', 'Reply Count', 'Retweeted Tweet',\n",
       "       'Language'],\n",
       "      dtype='object')"
      ]
     },
     "execution_count": 4,
     "metadata": {},
     "output_type": "execute_result"
    }
   ],
   "source": [
    "tweets.columns"
   ]
  },
  {
   "cell_type": "code",
   "execution_count": 5,
   "metadata": {},
   "outputs": [
    {
     "data": {
      "text/html": [
       "<div>\n",
       "<style scoped>\n",
       "    .dataframe tbody tr th:only-of-type {\n",
       "        vertical-align: middle;\n",
       "    }\n",
       "\n",
       "    .dataframe tbody tr th {\n",
       "        vertical-align: top;\n",
       "    }\n",
       "\n",
       "    .dataframe thead th {\n",
       "        text-align: right;\n",
       "    }\n",
       "</style>\n",
       "<table border=\"1\" class=\"dataframe\">\n",
       "  <thead>\n",
       "    <tr style=\"text-align: right;\">\n",
       "      <th></th>\n",
       "      <th>User</th>\n",
       "      <th>Tweet</th>\n",
       "    </tr>\n",
       "  </thead>\n",
       "  <tbody>\n",
       "    <tr>\n",
       "      <th>0</th>\n",
       "      <td>Makarov_Igor</td>\n",
       "      <td>It is sad, but we are officially in #recession...</td>\n",
       "    </tr>\n",
       "    <tr>\n",
       "      <th>1</th>\n",
       "      <td>quail_jay</td>\n",
       "      <td>@tedcruz Orwell said the greatest threat by so...</td>\n",
       "    </tr>\n",
       "    <tr>\n",
       "      <th>2</th>\n",
       "      <td>ShibaInuOnly</td>\n",
       "      <td>Glad to be part of the 1% that remains bullish...</td>\n",
       "    </tr>\n",
       "    <tr>\n",
       "      <th>3</th>\n",
       "      <td>BenSpin2</td>\n",
       "      <td>@HawleyMO I think we'll call this the Hawley r...</td>\n",
       "    </tr>\n",
       "    <tr>\n",
       "      <th>4</th>\n",
       "      <td>RJCass1</td>\n",
       "      <td>@ArowynPitts @BCozatt @MarshaBlackburn FYI, ge...</td>\n",
       "    </tr>\n",
       "  </tbody>\n",
       "</table>\n",
       "</div>"
      ],
      "text/plain": [
       "           User                                              Tweet\n",
       "0  Makarov_Igor  It is sad, but we are officially in #recession...\n",
       "1     quail_jay  @tedcruz Orwell said the greatest threat by so...\n",
       "2  ShibaInuOnly  Glad to be part of the 1% that remains bullish...\n",
       "3      BenSpin2  @HawleyMO I think we'll call this the Hawley r...\n",
       "4       RJCass1  @ArowynPitts @BCozatt @MarshaBlackburn FYI, ge..."
      ]
     },
     "execution_count": 5,
     "metadata": {},
     "output_type": "execute_result"
    }
   ],
   "source": [
    "text_df = tweets.drop(['Unnamed: 0', 'Date Created', 'Favourite Count',\n",
    "       'Number of Likes', 'Retweeet Count', 'Reply Count', 'Retweeted Tweet',\n",
    "       'Language'], axis=1)\n",
    "text_df.head()"
   ]
  },
  {
   "cell_type": "code",
   "execution_count": 6,
   "metadata": {},
   "outputs": [
    {
     "data": {
      "text/html": [
       "<div>\n",
       "<style scoped>\n",
       "    .dataframe tbody tr th:only-of-type {\n",
       "        vertical-align: middle;\n",
       "    }\n",
       "\n",
       "    .dataframe tbody tr th {\n",
       "        vertical-align: top;\n",
       "    }\n",
       "\n",
       "    .dataframe thead th {\n",
       "        text-align: right;\n",
       "    }\n",
       "</style>\n",
       "<table border=\"1\" class=\"dataframe\">\n",
       "  <thead>\n",
       "    <tr style=\"text-align: right;\">\n",
       "      <th></th>\n",
       "      <th>User</th>\n",
       "      <th>Tweet</th>\n",
       "    </tr>\n",
       "  </thead>\n",
       "  <tbody>\n",
       "    <tr>\n",
       "      <th>0</th>\n",
       "      <td>Makarov_Igor</td>\n",
       "      <td>it is sad but we are officially in recession</td>\n",
       "    </tr>\n",
       "    <tr>\n",
       "      <th>1</th>\n",
       "      <td>quail_jay</td>\n",
       "      <td>orwell said the greatest threat by socialists...</td>\n",
       "    </tr>\n",
       "    <tr>\n",
       "      <th>2</th>\n",
       "      <td>ShibaInuOnly</td>\n",
       "      <td>glad to be part of the 1 that remains bullish ...</td>\n",
       "    </tr>\n",
       "    <tr>\n",
       "      <th>3</th>\n",
       "      <td>BenSpin2</td>\n",
       "      <td>i think well call this the hawley recession  ...</td>\n",
       "    </tr>\n",
       "    <tr>\n",
       "      <th>4</th>\n",
       "      <td>RJCass1</td>\n",
       "      <td>fyi genius   the national board of economic...</td>\n",
       "    </tr>\n",
       "  </tbody>\n",
       "</table>\n",
       "</div>"
      ],
      "text/plain": [
       "           User                                              Tweet\n",
       "0  Makarov_Igor      it is sad but we are officially in recession \n",
       "1     quail_jay   orwell said the greatest threat by socialists...\n",
       "2  ShibaInuOnly  glad to be part of the 1 that remains bullish ...\n",
       "3      BenSpin2   i think well call this the hawley recession  ...\n",
       "4       RJCass1     fyi genius   the national board of economic..."
      ]
     },
     "execution_count": 6,
     "metadata": {},
     "output_type": "execute_result"
    }
   ],
   "source": [
    "# remove the hashtags, mentions and unwanted characters from the tweet texts\n",
    "def clean_text(df, text_field):\n",
    "    df[text_field] = df[text_field].str.lower()\n",
    "    df[text_field] = df[text_field].apply(lambda elem: re.sub(r\"(@[A-Za-z0-9]+)|([^0-9A-Za-z \\t])|(\\w+:\\/\\/\\S+)|^rt|http.+?\", \"\", elem))  \n",
    "    return df\n",
    "\n",
    "clean_tweets = clean_text(text_df, 'Tweet')\n",
    "clean_tweets.head()\n"
   ]
  },
  {
   "cell_type": "code",
   "execution_count": 7,
   "metadata": {},
   "outputs": [],
   "source": [
    "#remove stopwords, punctuations, lemmatize and tokenize word\n",
    "nlp = en_core_web_sm.load()\n",
    "tokenizer = RegexpTokenizer(r'\\w+')\n",
    "lemmatizer = WordNetLemmatizer()\n",
    "stop = set(stopwords.words('english'))\n",
    "punctuation = list(string.punctuation) #already taken care of with the cleaning function.\n",
    "stop.update(punctuation)\n",
    "w_tokenizer = WhitespaceTokenizer()\n",
    "\n",
    "            \n",
    "def furnished(text):\n",
    "    final_text = []\n",
    "    for i in w_tokenizer.tokenize(text):\n",
    "#     for i in text.split():\n",
    "        if i.lower() not in stop:\n",
    "            word = lemmatizer.lemmatize(i)\n",
    "            final_text.append(word.lower())\n",
    "    return \" \".join(final_text)\n",
    "\n",
    "\n",
    "            \n",
    "clean_tweets.Tweet = clean_tweets['Tweet'].apply(furnished)"
   ]
  },
  {
   "cell_type": "code",
   "execution_count": 8,
   "metadata": {},
   "outputs": [
    {
     "data": {
      "text/html": [
       "<div>\n",
       "<style scoped>\n",
       "    .dataframe tbody tr th:only-of-type {\n",
       "        vertical-align: middle;\n",
       "    }\n",
       "\n",
       "    .dataframe tbody tr th {\n",
       "        vertical-align: top;\n",
       "    }\n",
       "\n",
       "    .dataframe thead th {\n",
       "        text-align: right;\n",
       "    }\n",
       "</style>\n",
       "<table border=\"1\" class=\"dataframe\">\n",
       "  <thead>\n",
       "    <tr style=\"text-align: right;\">\n",
       "      <th></th>\n",
       "      <th>User</th>\n",
       "      <th>Tweet</th>\n",
       "    </tr>\n",
       "  </thead>\n",
       "  <tbody>\n",
       "    <tr>\n",
       "      <th>0</th>\n",
       "      <td>Makarov_Igor</td>\n",
       "      <td>sad officially recession</td>\n",
       "    </tr>\n",
       "    <tr>\n",
       "      <th>1</th>\n",
       "      <td>quail_jay</td>\n",
       "      <td>orwell said greatest threat socialist wouldnt ...</td>\n",
       "    </tr>\n",
       "    <tr>\n",
       "      <th>2</th>\n",
       "      <td>ShibaInuOnly</td>\n",
       "      <td>glad part 1 remains bullish shib even recession</td>\n",
       "    </tr>\n",
       "    <tr>\n",
       "      <th>3</th>\n",
       "      <td>BenSpin2</td>\n",
       "      <td>think well call hawley recession there good re...</td>\n",
       "    </tr>\n",
       "    <tr>\n",
       "      <th>4</th>\n",
       "      <td>RJCass1</td>\n",
       "      <td>fyi genius national board economic research de...</td>\n",
       "    </tr>\n",
       "  </tbody>\n",
       "</table>\n",
       "</div>"
      ],
      "text/plain": [
       "           User                                              Tweet\n",
       "0  Makarov_Igor                           sad officially recession\n",
       "1     quail_jay  orwell said greatest threat socialist wouldnt ...\n",
       "2  ShibaInuOnly    glad part 1 remains bullish shib even recession\n",
       "3      BenSpin2  think well call hawley recession there good re...\n",
       "4       RJCass1  fyi genius national board economic research de..."
      ]
     },
     "execution_count": 8,
     "metadata": {},
     "output_type": "execute_result"
    }
   ],
   "source": [
    "clean_tweets.head()"
   ]
  },
  {
   "cell_type": "code",
   "execution_count": 9,
   "metadata": {},
   "outputs": [],
   "source": [
    "economy_related_words = '''agriculture infrastructure capitalism trading service sector technology  economical supply \n",
    "                          industrialism efficiency frugality retrenchment downsizing   credit debit value \n",
    "                         economize   save  economically\n",
    "                         economies sluggish rise   rising spending conserve trend \n",
    "                         low-management  decline   industry impact poor  \n",
    "                            profession    surplus   fall\n",
    "                         declining  accelerating interest sectors balance stability productivity increase rates\n",
    "                            pushing expanding stabilize  rate industrial borrowing struggling\n",
    "                           deficit predicted    increasing  data\n",
    "                          economizer analysts investment market-based economy   debt free enterprise\n",
    "                         medium  exchange metric savepoint scarcity capital bank company stockholder fund business  \n",
    "                         asset treasury tourism incomes contraction employment jobs upturn deflation  macroeconomics\n",
    "                         bankruptcies exporters hyperinflation dollar entrepreneurship upswing marketplace commerce devaluation \n",
    "                         quicksave deindustrialization stockmarket reflation downspin dollarization withholder bankroll venture capital\n",
    "                         mutual fund plan economy mortgage lender unemployment rate credit crunch central bank financial institution\n",
    "                         bank rate custom duties mass-production black-market developing-countries developing economic-growth gdp trade barter \n",
    "                         distribution downturn economist'''\n",
    "                         "
   ]
  },
  {
   "cell_type": "code",
   "execution_count": 10,
   "metadata": {},
   "outputs": [],
   "source": [
    "social_related_words = '''sociable, gregarious societal friendly society socialization political  sociality \n",
    "                        interpersonal  ethnic socially party welfare public community socialist societies development\n",
    "                            network humans socialism collective personal corporation social constructivism\n",
    "                        relations volition citizenship brute   attitude rights socio \n",
    "                        socioeconomic ethics civic communal marital  sociale socialized communities     \n",
    "                         policy   unions        \n",
    "                        institutions values     governmental   organizations jamboree \n",
    "                         festivity    fairness  support  care  \n",
    "                         sides   activism     unsocial psychosocial \n",
    "                        socializing psychological distributional  demographic  participation reunion \n",
    "                        partygoer partyism festive power network gala housewarming celebration counterparty   social-war\n",
    "                        particularist interactional ideational asocial'''"
   ]
  },
  {
   "cell_type": "code",
   "execution_count": 11,
   "metadata": {},
   "outputs": [],
   "source": [
    "culture_related_words  = ''' ethnicity heritage modernity spirituality marxismmaterial culture \n",
    "                           ethos nationality humanism romanticism civilisation traditionalism genetics\n",
    "                        kinship heredity marriage   indigenous  archeology  acculturate  \n",
    "                       ontogenesis viniculture modern clothes     rooted \n",
    "                       cicero societies history roots influence geography historical folk origins \n",
    "                       phenomenon teleology ancient aspects perspective liberalism nowadays community style unique prevalent describes \n",
    "                         today  origin   modernity beliefs  genre barbarian ethnic \n",
    "                       colonization cultural universal organization western-civilization structuralism  culture \n",
    "                       heathen pagan transculturation culture peasant classicist nativism anarchy ungrown philosophic cult  \n",
    "                       consciousness islamist bro-culture evolve cultic diaspora aftergrowth native cultural-relativism  \n",
    "                       mongolian cosmopolitan epistemology lifestyles diversity chauvinism westernization materialism vernacular \n",
    "                       homogeneity otherness holism tusculanae disputationes primitivism superficiality hedonism discourse\n",
    "                       puritanism modernism intellectualism  exclusiveness elitism  colonialism  \n",
    "                       pentecostalism paganism nationwide expansion rural  auxesis kimono \n",
    "                       culturize alethophobia nettlebed japanification  dongyi clannishness insularity hybridity\n",
    "                       westernisation foreignness worldview exclusionism enculturation ethnocentrism  confucianist vulgarization\n",
    "                       shintoism  westernism denominationalism    deracination\n",
    "                        eurocentrism  cosmologies  emotiveness bohemianism territorialism\n",
    "                       philosophical-doctrine ethnic minority social-darwinism  theory cultural evolution belief systemfolk music \n",
    "                       traditional art house karl-marx   theorymedia  \n",
    "                       film-theory art history museum studies cultural artifact'''"
   ]
  },
  {
   "cell_type": "code",
   "execution_count": 12,
   "metadata": {},
   "outputs": [],
   "source": [
    "health_related_words = '''disease obesity world health organization medicine nutrition well-being exercise welfare wellness health care public health \n",
    "                     nursing stress safety hygiene research social healthy condition aids epidemiology healthiness wellbeing\n",
    "                     care illness medical dieteducation infectious disease environmental healthcare physical fitness hospitals \n",
    "                     health care provider doctors healthy community design insurance sanitation human body patient mental health\n",
    "                      medicare agriculture health science fitnesshealth policy  weight loss physical therapy psychology pharmacy\n",
    "                     metabolic organism human lifestyle status unhealthy upbeat vaccination sleep condom alcohol smoking water family\n",
    "                     eudaimonia eudaemonia air house prevention genetics public families poor needs treatment communicable disease \n",
    "                     study protection malaria development food priority management healthful mental provide department administration\n",
    "                     programs help assistance funding environment improving emergency need program affected schools private mental illness \n",
    "                     treat diseases preparedness perinatal fertility sickness veterinary sanitary pharmacists behavioral midwives\n",
    "                     gerontology infertility hospitalization midwifery cholesterol childcare pediatrician pediatrics medicaid asthma \n",
    "                     pensions sicknesses push-up physical education body-mass-index eat well gymnastic apparatus tune up good morning \n",
    "                     bathing low blood-pressure heart attack health club ride-bike you feel good eczema urticaria dermatitis sunburn overwork \n",
    "                     manufacturing medical sociology need exercise run'''"
   ]
  },
  {
   "cell_type": "markdown",
   "metadata": {},
   "source": [
    "Tokenizing and removing stop words from the sets.\n"
   ]
  },
  {
   "cell_type": "code",
   "execution_count": 13,
   "metadata": {},
   "outputs": [],
   "source": [
    "lp = en_core_web_sm.load()\n",
    "tokenizer = RegexpTokenizer(r'\\w+')\n",
    "lemmatizer = WordNetLemmatizer()\n",
    "stop = set(stopwords.words('english'))\n",
    "punctuation = list(string.punctuation)\n",
    "stop.update(punctuation)\n",
    "w_tokenizer = WhitespaceTokenizer()\n",
    "\n",
    "# clean the set of words\n",
    "            \n",
    "def furnished(text):\n",
    "    final_text = []\n",
    "    for i in text.split():\n",
    "        if i.lower() not in stop:\n",
    "            word = lemmatizer.lemmatize(i)\n",
    "            final_text.append(word.lower())\n",
    "    return \" \".join(final_text)"
   ]
  },
  {
   "cell_type": "code",
   "execution_count": 14,
   "metadata": {},
   "outputs": [],
   "source": [
    "economy = furnished(economy_related_words)\n",
    "social = furnished(social_related_words)\n",
    "culture = furnished(culture_related_words)\n",
    "health = furnished(health_related_words)"
   ]
  },
  {
   "cell_type": "markdown",
   "metadata": {},
   "source": [
    "Removing duplicates"
   ]
  },
  {
   "cell_type": "code",
   "execution_count": 15,
   "metadata": {},
   "outputs": [
    {
     "data": {
      "text/plain": [
       "'agriculture infrastructure capitalism trading service sector technology economical supply industrialism efficiency frugality retrenchment downsizing credit debit value economize save economically economy sluggish rise rising spending conserve trend low-management decline industry impact poor profession surplus fall declining accelerating interest balance stability productivity increase rate pushing expanding stabilize industrial borrowing struggling deficit predicted increasing data economizer analyst investment market-based debt free enterprise medium exchange metric savepoint scarcity capital bank company stockholder fund business asset treasury tourism income contraction employment job upturn deflation macroeconomics bankruptcy exporter hyperinflation dollar entrepreneurship upswing marketplace commerce devaluation quicksave deindustrialization stockmarket reflation downspin dollarization withholder bankroll venture mutual plan mortgage lender unemployment crunch central financial institution custom duty mass-production black-market developing-countries developing economic-growth gdp trade barter distribution downturn economist'"
      ]
     },
     "execution_count": 15,
     "metadata": {},
     "output_type": "execute_result"
    }
   ],
   "source": [
    "# delete duplicates\n",
    "string1 = economy\n",
    "words1 = string1.split()\n",
    "economy = \" \".join(sorted(set(words1), key=words1.index))\n",
    "economy"
   ]
  },
  {
   "cell_type": "code",
   "execution_count": 16,
   "metadata": {},
   "outputs": [
    {
     "data": {
      "text/plain": [
       "'sociable, gregarious societal friendly society socialization political sociality interpersonal ethnic socially party welfare public community socialist development network human socialism collective personal corporation social constructivism relation volition citizenship brute attitude right socio socioeconomic ethic civic communal marital sociale socialized policy union institution value governmental organization jamboree festivity fairness support care side activism unsocial psychosocial socializing psychological distributional demographic participation reunion partygoer partyism festive power gala housewarming celebration counterparty social-war particularist interactional ideational asocial'"
      ]
     },
     "execution_count": 16,
     "metadata": {},
     "output_type": "execute_result"
    }
   ],
   "source": [
    "string2 = social\n",
    "words2 = string2.split()\n",
    "social = \" \".join(sorted(set(words2), key=words2.index))\n",
    "social"
   ]
  },
  {
   "cell_type": "code",
   "execution_count": 17,
   "metadata": {},
   "outputs": [
    {
     "data": {
      "text/plain": [
       "'ethnicity heritage modernity spirituality marxismmaterial culture ethos nationality humanism romanticism civilisation traditionalism genetics kinship heredity marriage indigenous archeology acculturate ontogenesis viniculture modern clothes rooted cicero society history root influence geography historical folk origin phenomenon teleology ancient aspect perspective liberalism nowadays community style unique prevalent describes today belief genre barbarian ethnic colonization cultural universal organization western-civilization structuralism heathen pagan transculturation peasant classicist nativism anarchy ungrown philosophic cult consciousness islamist bro-culture evolve cultic diaspora aftergrowth native cultural-relativism mongolian cosmopolitan epistemology lifestyle diversity chauvinism westernization materialism vernacular homogeneity otherness holism tusculanae disputationes primitivism superficiality hedonism discourse puritanism modernism intellectualism exclusiveness elitism colonialism pentecostalism paganism nationwide expansion rural auxesis kimono culturize alethophobia nettlebed japanification dongyi clannishness insularity hybridity westernisation foreignness worldview exclusionism enculturation ethnocentrism confucianist vulgarization shintoism westernism denominationalism deracination eurocentrism cosmology emotiveness bohemianism territorialism philosophical-doctrine minority social-darwinism theory evolution systemfolk music traditional art house karl-marx theorymedia film-theory museum study artifact'"
      ]
     },
     "execution_count": 17,
     "metadata": {},
     "output_type": "execute_result"
    }
   ],
   "source": [
    "string3 = culture\n",
    "words3 = string3.split()\n",
    "culture = \" \".join(sorted(set(words3), key=words3.index))\n",
    "culture"
   ]
  },
  {
   "cell_type": "code",
   "execution_count": 18,
   "metadata": {},
   "outputs": [
    {
     "data": {
      "text/plain": [
       "'disease obesity world health organization medicine nutrition well-being exercise welfare wellness care public nursing stress safety hygiene research social healthy condition aid epidemiology healthiness wellbeing illness medical dieteducation infectious environmental healthcare physical fitness hospital provider doctor community design insurance sanitation human body patient mental medicare agriculture science fitnesshealth policy weight loss therapy psychology pharmacy metabolic organism lifestyle status unhealthy upbeat vaccination sleep condom alcohol smoking water family eudaimonia eudaemonia air house prevention genetics poor need treatment communicable study protection malaria development food priority management healthful provide department administration program help assistance funding environment improving emergency affected school private treat preparedness perinatal fertility sickness veterinary sanitary pharmacist behavioral midwife gerontology infertility hospitalization midwifery cholesterol childcare pediatrician pediatrics medicaid asthma pension push-up education body-mass-index eat well gymnastic apparatus tune good morning bathing low blood-pressure heart attack club ride-bike feel eczema urticaria dermatitis sunburn overwork manufacturing sociology run'"
      ]
     },
     "execution_count": 18,
     "metadata": {},
     "output_type": "execute_result"
    }
   ],
   "source": [
    "string4 = health\n",
    "words4 = string4.split()\n",
    "health = \" \".join(sorted(set(words4), key=words4.index))\n",
    "health"
   ]
  },
  {
   "cell_type": "markdown",
   "metadata": {},
   "source": [
    "Vectorizing and Standadization."
   ]
  },
  {
   "cell_type": "code",
   "execution_count": 19,
   "metadata": {},
   "outputs": [],
   "source": [
    "#Vectorizing the sets of words, then standardizing them.\n",
    "\n",
    "def get_vectors(*strs):\n",
    "    text = [t for t in strs]\n",
    "    vectorizer = TfidfVectorizer(text)\n",
    "    vectorizer.fit(text)\n",
    "    return vectorizer.transform(text).toarray()"
   ]
  },
  {
   "cell_type": "code",
   "execution_count": 20,
   "metadata": {},
   "outputs": [],
   "source": [
    "## Vectorizing the tweets\n",
    "tv=TfidfVectorizer()\n",
    "tfidf_tweets =tv.fit_transform(clean_tweets['Tweet'])"
   ]
  },
  {
   "cell_type": "code",
   "execution_count": 21,
   "metadata": {},
   "outputs": [
    {
     "data": {
      "text/html": [
       "<div>\n",
       "<style scoped>\n",
       "    .dataframe tbody tr th:only-of-type {\n",
       "        vertical-align: middle;\n",
       "    }\n",
       "\n",
       "    .dataframe tbody tr th {\n",
       "        vertical-align: top;\n",
       "    }\n",
       "\n",
       "    .dataframe thead th {\n",
       "        text-align: right;\n",
       "    }\n",
       "</style>\n",
       "<table border=\"1\" class=\"dataframe\">\n",
       "  <thead>\n",
       "    <tr style=\"text-align: right;\">\n",
       "      <th></th>\n",
       "      <th>User</th>\n",
       "      <th>Tweet</th>\n",
       "    </tr>\n",
       "  </thead>\n",
       "  <tbody>\n",
       "    <tr>\n",
       "      <th>0</th>\n",
       "      <td>Makarov_Igor</td>\n",
       "      <td>sad officially recession</td>\n",
       "    </tr>\n",
       "    <tr>\n",
       "      <th>1</th>\n",
       "      <td>quail_jay</td>\n",
       "      <td>orwell said greatest threat socialist wouldnt ...</td>\n",
       "    </tr>\n",
       "    <tr>\n",
       "      <th>2</th>\n",
       "      <td>ShibaInuOnly</td>\n",
       "      <td>glad part 1 remains bullish shib even recession</td>\n",
       "    </tr>\n",
       "    <tr>\n",
       "      <th>3</th>\n",
       "      <td>BenSpin2</td>\n",
       "      <td>think well call hawley recession there good re...</td>\n",
       "    </tr>\n",
       "    <tr>\n",
       "      <th>4</th>\n",
       "      <td>RJCass1</td>\n",
       "      <td>fyi genius national board economic research de...</td>\n",
       "    </tr>\n",
       "  </tbody>\n",
       "</table>\n",
       "</div>"
      ],
      "text/plain": [
       "           User                                              Tweet\n",
       "0  Makarov_Igor                           sad officially recession\n",
       "1     quail_jay  orwell said greatest threat socialist wouldnt ...\n",
       "2  ShibaInuOnly    glad part 1 remains bullish shib even recession\n",
       "3      BenSpin2  think well call hawley recession there good re...\n",
       "4       RJCass1  fyi genius national board economic research de..."
      ]
     },
     "execution_count": 21,
     "metadata": {},
     "output_type": "execute_result"
    }
   ],
   "source": [
    "clean_tweets.head()"
   ]
  },
  {
   "cell_type": "code",
   "execution_count": 22,
   "metadata": {},
   "outputs": [],
   "source": [
    "#Jaccard similarity is good for cases where duplication does not matter, \n",
    "\n",
    "\n",
    "def jaccard_similarity(query, document):\n",
    "    intersection = set(query).intersection(set(document))\n",
    "    union = set(query).union(set(document))\n",
    "    return len(intersection)/len(union)\n",
    "\n",
    "\n",
    "def get_scores(group,tweets):\n",
    "    scores = []\n",
    "    for tweet in tweets:\n",
    "        s = jaccard_similarity(group, tweet)\n",
    "        scores.append(s)\n",
    "    return scores\n"
   ]
  },
  {
   "cell_type": "code",
   "execution_count": 23,
   "metadata": {},
   "outputs": [
    {
     "data": {
      "text/plain": [
       "[0.5666666666666667,\n",
       " 0.4642857142857143,\n",
       " 0.5,\n",
       " 0.7931034482758621,\n",
       " 0.6071428571428571,\n",
       " 0.8620689655172413,\n",
       " 0.6071428571428571,\n",
       " 0.8571428571428571,\n",
       " 0.8214285714285714,\n",
       " 0.6896551724137931]"
      ]
     },
     "execution_count": 23,
     "metadata": {},
     "output_type": "execute_result"
    }
   ],
   "source": [
    "# economic scores\n",
    "e_scores = get_scores(economy, clean_tweets['Tweet'].to_list())\n",
    "e_scores[-10:]"
   ]
  },
  {
   "cell_type": "code",
   "execution_count": 24,
   "metadata": {},
   "outputs": [
    {
     "data": {
      "text/plain": [
       "[0.5862068965517241,\n",
       " 0.48148148148148145,\n",
       " 0.5172413793103449,\n",
       " 0.8214285714285714,\n",
       " 0.6296296296296297,\n",
       " 0.8275862068965517,\n",
       " 0.6296296296296297,\n",
       " 0.8888888888888888,\n",
       " 0.7857142857142857,\n",
       " 0.7142857142857143]"
      ]
     },
     "execution_count": 24,
     "metadata": {},
     "output_type": "execute_result"
    }
   ],
   "source": [
    "# social scores\n",
    "s_scores = get_scores(social, clean_tweets['Tweet'].to_list())\n",
    "s_scores[-10:]"
   ]
  },
  {
   "cell_type": "code",
   "execution_count": 25,
   "metadata": {},
   "outputs": [
    {
     "data": {
      "text/plain": [
       "[0.5666666666666667,\n",
       " 0.4642857142857143,\n",
       " 0.5,\n",
       " 0.7931034482758621,\n",
       " 0.6071428571428571,\n",
       " 0.8620689655172413,\n",
       " 0.6071428571428571,\n",
       " 0.8571428571428571,\n",
       " 0.8214285714285714,\n",
       " 0.6896551724137931]"
      ]
     },
     "execution_count": 25,
     "metadata": {},
     "output_type": "execute_result"
    }
   ],
   "source": [
    "# culture scores\n",
    "c_scores = get_scores(culture, clean_tweets['Tweet'].to_list())\n",
    "c_scores[-10:]"
   ]
  },
  {
   "cell_type": "code",
   "execution_count": 26,
   "metadata": {},
   "outputs": [
    {
     "data": {
      "text/plain": [
       "[0.6071428571428571,\n",
       " 0.5,\n",
       " 0.5357142857142857,\n",
       " 0.8518518518518519,\n",
       " 0.6538461538461539,\n",
       " 0.8571428571428571,\n",
       " 0.6538461538461539,\n",
       " 0.9230769230769231,\n",
       " 0.8846153846153846,\n",
       " 0.7407407407407407]"
      ]
     },
     "execution_count": 26,
     "metadata": {},
     "output_type": "execute_result"
    }
   ],
   "source": [
    "# health scores\n",
    "h_scores = get_scores(health, clean_tweets['Tweet'].to_list())\n",
    "h_scores[-10:]"
   ]
  },
  {
   "cell_type": "code",
   "execution_count": 27,
   "metadata": {},
   "outputs": [
    {
     "data": {
      "text/html": [
       "<div>\n",
       "<style scoped>\n",
       "    .dataframe tbody tr th:only-of-type {\n",
       "        vertical-align: middle;\n",
       "    }\n",
       "\n",
       "    .dataframe tbody tr th {\n",
       "        vertical-align: top;\n",
       "    }\n",
       "\n",
       "    .dataframe thead th {\n",
       "        text-align: right;\n",
       "    }\n",
       "</style>\n",
       "<table border=\"1\" class=\"dataframe\">\n",
       "  <thead>\n",
       "    <tr style=\"text-align: right;\">\n",
       "      <th></th>\n",
       "      <th>names</th>\n",
       "      <th>economic_score</th>\n",
       "      <th>social_score</th>\n",
       "      <th>culture_score</th>\n",
       "      <th>health_scores</th>\n",
       "    </tr>\n",
       "  </thead>\n",
       "  <tbody>\n",
       "    <tr>\n",
       "      <th>0</th>\n",
       "      <td>Makarov_Igor</td>\n",
       "      <td>0.464286</td>\n",
       "      <td>0.481481</td>\n",
       "      <td>0.464286</td>\n",
       "      <td>0.500000</td>\n",
       "    </tr>\n",
       "    <tr>\n",
       "      <th>1</th>\n",
       "      <td>quail_jay</td>\n",
       "      <td>0.750000</td>\n",
       "      <td>0.777778</td>\n",
       "      <td>0.750000</td>\n",
       "      <td>0.807692</td>\n",
       "    </tr>\n",
       "    <tr>\n",
       "      <th>2</th>\n",
       "      <td>ShibaInuOnly</td>\n",
       "      <td>0.655172</td>\n",
       "      <td>0.678571</td>\n",
       "      <td>0.655172</td>\n",
       "      <td>0.703704</td>\n",
       "    </tr>\n",
       "    <tr>\n",
       "      <th>3</th>\n",
       "      <td>BenSpin2</td>\n",
       "      <td>0.642857</td>\n",
       "      <td>0.666667</td>\n",
       "      <td>0.642857</td>\n",
       "      <td>0.692308</td>\n",
       "    </tr>\n",
       "    <tr>\n",
       "      <th>4</th>\n",
       "      <td>RJCass1</td>\n",
       "      <td>0.750000</td>\n",
       "      <td>0.777778</td>\n",
       "      <td>0.750000</td>\n",
       "      <td>0.807692</td>\n",
       "    </tr>\n",
       "    <tr>\n",
       "      <th>5</th>\n",
       "      <td>SteveW75569624</td>\n",
       "      <td>0.642857</td>\n",
       "      <td>0.666667</td>\n",
       "      <td>0.642857</td>\n",
       "      <td>0.692308</td>\n",
       "    </tr>\n",
       "    <tr>\n",
       "      <th>6</th>\n",
       "      <td>PaTroll21</td>\n",
       "      <td>0.642857</td>\n",
       "      <td>0.666667</td>\n",
       "      <td>0.642857</td>\n",
       "      <td>0.692308</td>\n",
       "    </tr>\n",
       "    <tr>\n",
       "      <th>7</th>\n",
       "      <td>bitcoinscoops</td>\n",
       "      <td>0.714286</td>\n",
       "      <td>0.740741</td>\n",
       "      <td>0.714286</td>\n",
       "      <td>0.703704</td>\n",
       "    </tr>\n",
       "    <tr>\n",
       "      <th>8</th>\n",
       "      <td>drowningcactus</td>\n",
       "      <td>0.611111</td>\n",
       "      <td>0.583333</td>\n",
       "      <td>0.611111</td>\n",
       "      <td>0.600000</td>\n",
       "    </tr>\n",
       "    <tr>\n",
       "      <th>9</th>\n",
       "      <td>glenkovacs</td>\n",
       "      <td>0.714286</td>\n",
       "      <td>0.740741</td>\n",
       "      <td>0.714286</td>\n",
       "      <td>0.769231</td>\n",
       "    </tr>\n",
       "    <tr>\n",
       "      <th>10</th>\n",
       "      <td>vsblondangel</td>\n",
       "      <td>0.357143</td>\n",
       "      <td>0.370370</td>\n",
       "      <td>0.357143</td>\n",
       "      <td>0.384615</td>\n",
       "    </tr>\n",
       "    <tr>\n",
       "      <th>11</th>\n",
       "      <td>bradleydnvr</td>\n",
       "      <td>0.750000</td>\n",
       "      <td>0.777778</td>\n",
       "      <td>0.750000</td>\n",
       "      <td>0.807692</td>\n",
       "    </tr>\n",
       "    <tr>\n",
       "      <th>12</th>\n",
       "      <td>rehnb1</td>\n",
       "      <td>0.500000</td>\n",
       "      <td>0.464286</td>\n",
       "      <td>0.500000</td>\n",
       "      <td>0.538462</td>\n",
       "    </tr>\n",
       "    <tr>\n",
       "      <th>13</th>\n",
       "      <td>CooperChurch14</td>\n",
       "      <td>0.607143</td>\n",
       "      <td>0.629630</td>\n",
       "      <td>0.607143</td>\n",
       "      <td>0.653846</td>\n",
       "    </tr>\n",
       "    <tr>\n",
       "      <th>14</th>\n",
       "      <td>wafflepop</td>\n",
       "      <td>0.785714</td>\n",
       "      <td>0.814815</td>\n",
       "      <td>0.785714</td>\n",
       "      <td>0.846154</td>\n",
       "    </tr>\n",
       "    <tr>\n",
       "      <th>15</th>\n",
       "      <td>JetDigital3211</td>\n",
       "      <td>0.785714</td>\n",
       "      <td>0.814815</td>\n",
       "      <td>0.785714</td>\n",
       "      <td>0.846154</td>\n",
       "    </tr>\n",
       "    <tr>\n",
       "      <th>16</th>\n",
       "      <td>MarkBro67570822</td>\n",
       "      <td>0.785714</td>\n",
       "      <td>0.814815</td>\n",
       "      <td>0.785714</td>\n",
       "      <td>0.846154</td>\n",
       "    </tr>\n",
       "    <tr>\n",
       "      <th>17</th>\n",
       "      <td>helloamysnow</td>\n",
       "      <td>0.678571</td>\n",
       "      <td>0.703704</td>\n",
       "      <td>0.678571</td>\n",
       "      <td>0.730769</td>\n",
       "    </tr>\n",
       "    <tr>\n",
       "      <th>18</th>\n",
       "      <td>Travis61988223</td>\n",
       "      <td>0.586207</td>\n",
       "      <td>0.607143</td>\n",
       "      <td>0.586207</td>\n",
       "      <td>0.629630</td>\n",
       "    </tr>\n",
       "    <tr>\n",
       "      <th>19</th>\n",
       "      <td>Nonya02191442</td>\n",
       "      <td>0.571429</td>\n",
       "      <td>0.535714</td>\n",
       "      <td>0.571429</td>\n",
       "      <td>0.615385</td>\n",
       "    </tr>\n",
       "  </tbody>\n",
       "</table>\n",
       "</div>"
      ],
      "text/plain": [
       "              names  economic_score  social_score  culture_score  \\\n",
       "0      Makarov_Igor        0.464286      0.481481       0.464286   \n",
       "1         quail_jay        0.750000      0.777778       0.750000   \n",
       "2      ShibaInuOnly        0.655172      0.678571       0.655172   \n",
       "3          BenSpin2        0.642857      0.666667       0.642857   \n",
       "4           RJCass1        0.750000      0.777778       0.750000   \n",
       "5    SteveW75569624        0.642857      0.666667       0.642857   \n",
       "6         PaTroll21        0.642857      0.666667       0.642857   \n",
       "7     bitcoinscoops        0.714286      0.740741       0.714286   \n",
       "8    drowningcactus        0.611111      0.583333       0.611111   \n",
       "9        glenkovacs        0.714286      0.740741       0.714286   \n",
       "10     vsblondangel        0.357143      0.370370       0.357143   \n",
       "11      bradleydnvr        0.750000      0.777778       0.750000   \n",
       "12           rehnb1        0.500000      0.464286       0.500000   \n",
       "13   CooperChurch14        0.607143      0.629630       0.607143   \n",
       "14        wafflepop        0.785714      0.814815       0.785714   \n",
       "15   JetDigital3211        0.785714      0.814815       0.785714   \n",
       "16  MarkBro67570822        0.785714      0.814815       0.785714   \n",
       "17     helloamysnow        0.678571      0.703704       0.678571   \n",
       "18   Travis61988223        0.586207      0.607143       0.586207   \n",
       "19    Nonya02191442        0.571429      0.535714       0.571429   \n",
       "\n",
       "    health_scores  \n",
       "0        0.500000  \n",
       "1        0.807692  \n",
       "2        0.703704  \n",
       "3        0.692308  \n",
       "4        0.807692  \n",
       "5        0.692308  \n",
       "6        0.692308  \n",
       "7        0.703704  \n",
       "8        0.600000  \n",
       "9        0.769231  \n",
       "10       0.384615  \n",
       "11       0.807692  \n",
       "12       0.538462  \n",
       "13       0.653846  \n",
       "14       0.846154  \n",
       "15       0.846154  \n",
       "16       0.846154  \n",
       "17       0.730769  \n",
       "18       0.629630  \n",
       "19       0.615385  "
      ]
     },
     "execution_count": 27,
     "metadata": {},
     "output_type": "execute_result"
    }
   ],
   "source": [
    "# Data frame with usernames and jaccard score for each group\n",
    "\n",
    "data  = {'names':clean_tweets['User'].to_list(), 'economic_score':e_scores,\n",
    "         'social_score': s_scores, 'culture_score':c_scores, 'health_scores':h_scores}\n",
    "scores_df = pd.DataFrame(data)\n",
    "scores_df.head(20)"
   ]
  },
  {
   "cell_type": "code",
   "execution_count": 28,
   "metadata": {},
   "outputs": [],
   "source": [
    "# Assigning classes to the Tweets\n",
    "\n",
    "def get_clusters(l1, l2, l3, l4):\n",
    "    econ = []\n",
    "    socio = []\n",
    "    cul = []\n",
    "    heal = []\n",
    "    for i, j, k, l in zip(l1, l2, l3, l4):\n",
    "        m = max(i, j, k, l)\n",
    "        if m == i:\n",
    "            econ.append(1)\n",
    "        else:\n",
    "            econ.append(0)\n",
    "        if m == j:\n",
    "            socio.append(1)\n",
    "        else:\n",
    "            socio.append(0)        \n",
    "        if m == k:\n",
    "            cul.append(1)\n",
    "        else:\n",
    "            cul.append(0)  \n",
    "        if m == l:\n",
    "            heal.append(1)\n",
    "        else:\n",
    "            heal.append(0)   \n",
    "            \n",
    "    return econ, socio, cul, heal"
   ]
  },
  {
   "cell_type": "code",
   "execution_count": 29,
   "metadata": {},
   "outputs": [],
   "source": [
    "l1 = scores_df.economic_score.to_list()\n",
    "l2 = scores_df.social_score.to_list()\n",
    "l3 = scores_df.culture_score.to_list()\n",
    "l4 = scores_df.health_scores.to_list()\n",
    "\n",
    "econ, socio, cul, heal = get_clusters(l1, l2, l3, l4)"
   ]
  },
  {
   "cell_type": "code",
   "execution_count": 30,
   "metadata": {},
   "outputs": [
    {
     "data": {
      "text/html": [
       "<div>\n",
       "<style scoped>\n",
       "    .dataframe tbody tr th:only-of-type {\n",
       "        vertical-align: middle;\n",
       "    }\n",
       "\n",
       "    .dataframe tbody tr th {\n",
       "        vertical-align: top;\n",
       "    }\n",
       "\n",
       "    .dataframe thead th {\n",
       "        text-align: right;\n",
       "    }\n",
       "</style>\n",
       "<table border=\"1\" class=\"dataframe\">\n",
       "  <thead>\n",
       "    <tr style=\"text-align: right;\">\n",
       "      <th></th>\n",
       "      <th>names</th>\n",
       "      <th>economic</th>\n",
       "      <th>social</th>\n",
       "      <th>culture</th>\n",
       "      <th>health</th>\n",
       "    </tr>\n",
       "  </thead>\n",
       "  <tbody>\n",
       "    <tr>\n",
       "      <th>0</th>\n",
       "      <td>Makarov_Igor</td>\n",
       "      <td>0</td>\n",
       "      <td>0</td>\n",
       "      <td>0</td>\n",
       "      <td>1</td>\n",
       "    </tr>\n",
       "    <tr>\n",
       "      <th>1</th>\n",
       "      <td>quail_jay</td>\n",
       "      <td>0</td>\n",
       "      <td>0</td>\n",
       "      <td>0</td>\n",
       "      <td>1</td>\n",
       "    </tr>\n",
       "    <tr>\n",
       "      <th>2</th>\n",
       "      <td>ShibaInuOnly</td>\n",
       "      <td>0</td>\n",
       "      <td>0</td>\n",
       "      <td>0</td>\n",
       "      <td>1</td>\n",
       "    </tr>\n",
       "    <tr>\n",
       "      <th>3</th>\n",
       "      <td>BenSpin2</td>\n",
       "      <td>0</td>\n",
       "      <td>0</td>\n",
       "      <td>0</td>\n",
       "      <td>1</td>\n",
       "    </tr>\n",
       "    <tr>\n",
       "      <th>4</th>\n",
       "      <td>RJCass1</td>\n",
       "      <td>0</td>\n",
       "      <td>0</td>\n",
       "      <td>0</td>\n",
       "      <td>1</td>\n",
       "    </tr>\n",
       "  </tbody>\n",
       "</table>\n",
       "</div>"
      ],
      "text/plain": [
       "          names  economic  social  culture  health\n",
       "0  Makarov_Igor         0       0        0       1\n",
       "1     quail_jay         0       0        0       1\n",
       "2  ShibaInuOnly         0       0        0       1\n",
       "3      BenSpin2         0       0        0       1\n",
       "4       RJCass1         0       0        0       1"
      ]
     },
     "execution_count": 30,
     "metadata": {},
     "output_type": "execute_result"
    }
   ],
   "source": [
    "data = {'names':clean_tweets['User'].to_list(), 'economic':econ, 'social':socio, 'culture':cul, 'health': heal}\n",
    "cluster_df = pd.DataFrame(data)\n",
    "cluster_df.head(5)"
   ]
  },
  {
   "cell_type": "code",
   "execution_count": 31,
   "metadata": {},
   "outputs": [],
   "source": [
    "'''Due to the close similarity between the economic, social and health tweets, some tweets have multiple categories, \n",
    "so to take care of that the rows with a sum > 1 will have to share the categories. After this, clustering will take care \n",
    "of the fractions'''\n",
    "\n",
    "\n",
    "a =  cluster_df[['economic', 'social', 'culture', 'health']].sum(axis = 1) > 1\n",
    "c = cluster_df[['economic', 'social', 'culture', 'health']].sum(axis = 1)\n",
    "b = cluster_df.copy()\n",
    "cluster_df.loc[(a), ['economic','social', 'culture', 'health']] = 1/c"
   ]
  },
  {
   "cell_type": "code",
   "execution_count": 32,
   "metadata": {},
   "outputs": [
    {
     "data": {
      "text/plain": [
       "(500001, 5)"
      ]
     },
     "execution_count": 32,
     "metadata": {},
     "output_type": "execute_result"
    }
   ],
   "source": [
    "\n",
    "cluster_df.shape"
   ]
  },
  {
   "cell_type": "markdown",
   "metadata": {},
   "source": [
    "Clustered DF\n"
   ]
  },
  {
   "cell_type": "code",
   "execution_count": 33,
   "metadata": {},
   "outputs": [
    {
     "name": "stdout",
     "output_type": "stream",
     "text": [
      "(243660, 5)\n"
     ]
    },
    {
     "data": {
      "text/html": [
       "<div>\n",
       "<style scoped>\n",
       "    .dataframe tbody tr th:only-of-type {\n",
       "        vertical-align: middle;\n",
       "    }\n",
       "\n",
       "    .dataframe tbody tr th {\n",
       "        vertical-align: top;\n",
       "    }\n",
       "\n",
       "    .dataframe thead th {\n",
       "        text-align: right;\n",
       "    }\n",
       "</style>\n",
       "<table border=\"1\" class=\"dataframe\">\n",
       "  <thead>\n",
       "    <tr style=\"text-align: right;\">\n",
       "      <th></th>\n",
       "      <th>economic</th>\n",
       "      <th>social</th>\n",
       "      <th>culture</th>\n",
       "      <th>health</th>\n",
       "      <th>total</th>\n",
       "    </tr>\n",
       "    <tr>\n",
       "      <th>names</th>\n",
       "      <th></th>\n",
       "      <th></th>\n",
       "      <th></th>\n",
       "      <th></th>\n",
       "      <th></th>\n",
       "    </tr>\n",
       "  </thead>\n",
       "  <tbody>\n",
       "    <tr>\n",
       "      <th>zzzxxxyyy90909</th>\n",
       "      <td>0</td>\n",
       "      <td>0</td>\n",
       "      <td>0</td>\n",
       "      <td>2</td>\n",
       "      <td>2</td>\n",
       "    </tr>\n",
       "    <tr>\n",
       "      <th>zzzxxxzzza</th>\n",
       "      <td>0</td>\n",
       "      <td>0</td>\n",
       "      <td>0</td>\n",
       "      <td>0</td>\n",
       "      <td>0</td>\n",
       "    </tr>\n",
       "    <tr>\n",
       "      <th>zzzzChristo</th>\n",
       "      <td>1</td>\n",
       "      <td>10</td>\n",
       "      <td>1</td>\n",
       "      <td>4</td>\n",
       "      <td>16</td>\n",
       "    </tr>\n",
       "    <tr>\n",
       "      <th>zzzzzz_cz17</th>\n",
       "      <td>0</td>\n",
       "      <td>1</td>\n",
       "      <td>0</td>\n",
       "      <td>5</td>\n",
       "      <td>6</td>\n",
       "    </tr>\n",
       "    <tr>\n",
       "      <th>Total</th>\n",
       "      <td>16057</td>\n",
       "      <td>68234</td>\n",
       "      <td>16057</td>\n",
       "      <td>391370</td>\n",
       "      <td>491718</td>\n",
       "    </tr>\n",
       "  </tbody>\n",
       "</table>\n",
       "</div>"
      ],
      "text/plain": [
       "                economic  social  culture  health   total\n",
       "names                                                    \n",
       "zzzxxxyyy90909         0       0        0       2       2\n",
       "zzzxxxzzza             0       0        0       0       0\n",
       "zzzzChristo            1      10        1       4      16\n",
       "zzzzzz_cz17            0       1        0       5       6\n",
       "Total              16057   68234    16057  391370  491718"
      ]
     },
     "execution_count": 33,
     "metadata": {},
     "output_type": "execute_result"
    }
   ],
   "source": [
    "pivot_clusters = cluster_df.groupby(['names']).sum()\n",
    "pivot_clusters['economic'] = pivot_clusters['economic'].astype(int)\n",
    "pivot_clusters['social'] = pivot_clusters['social'].astype(int)\n",
    "pivot_clusters['culture'] = pivot_clusters['culture'].astype(int)\n",
    "pivot_clusters['health'] = pivot_clusters['health'].astype(int)\n",
    "pivot_clusters['total'] = pivot_clusters['health'] + pivot_clusters['culture'] + pivot_clusters['social'] +  pivot_clusters['economic']\n",
    "pivot_clusters.loc[\"Total\"] = pivot_clusters.sum()  #add a totals row\n",
    "print(pivot_clusters.shape)\n",
    "pivot_clusters.tail()"
   ]
  },
  {
   "cell_type": "markdown",
   "metadata": {},
   "source": [
    "Visualisations"
   ]
  },
  {
   "cell_type": "code",
   "execution_count": 34,
   "metadata": {},
   "outputs": [
    {
     "data": {
      "image/png": "[encoded data removed]",
      "text/plain": [
       "<Figure size 720x504 with 1 Axes>"
      ]
     },
     "metadata": {},
     "output_type": "display_data"
    }
   ],
   "source": [
    "\n",
    "fig = plt.figure(figsize =(10, 7)) \n",
    "a = pivot_clusters.drop(['total'], axis = 1)\n",
    "plt.pie(a.loc['Total'], labels = a.columns)\n",
    "plt.title('A pie chart showing the volumes of tweets under different categories.')\n",
    "plt.show() "
   ]
  },
  {
   "cell_type": "code",
   "execution_count": 35,
   "metadata": {},
   "outputs": [
    {
     "name": "stderr",
     "output_type": "stream",
     "text": [
      "C:\\Users\\aross\\AppData\\Local\\Temp\\ipykernel_105956\\2793795951.py:5: SettingWithCopyWarning: \n",
      "A value is trying to be set on a copy of a slice from a DataFrame\n",
      "\n",
      "See the caveats in the documentation: https://pandas.pydata.org/pandas-docs/stable/user_guide/indexing.html#returning-a-view-versus-a-copy\n",
      "  e.drop(e.head(2).index, inplace=True)\n"
     ]
    },
    {
     "data": {
      "text/plain": [
       "Text(0, 0.5, 'total tweets')"
      ]
     },
     "execution_count": 35,
     "metadata": {},
     "output_type": "execute_result"
    },
    {
     "data": {
      "image/png": "[encoded data removed]",
      "text/plain": [
       "<Figure size 864x720 with 1 Axes>"
      ]
     },
     "metadata": {
      "needs_background": "light"
     },
     "output_type": "display_data"
    }
   ],
   "source": [
    "# Users with the most tweets in dataset\n",
    "\n",
    "d = pivot_clusters.sort_values(by = 'total', ascending  = False)\n",
    "e = d.head(12)\n",
    "e.drop(e.head(2).index, inplace=True)\n",
    "\n",
    "plt.figure(figsize=(12,10))\n",
    "sns.barplot(x = e.index, y = e.total)\n",
    "plt.title('Top tweets of users based on volume')\n",
    "plt.xticks(rotation=45)\n",
    "plt.xlabel('screen names')\n",
    "plt.ylabel('total tweets')"
   ]
  },
  {
   "cell_type": "code",
   "execution_count": 36,
   "metadata": {},
   "outputs": [
    {
     "name": "stderr",
     "output_type": "stream",
     "text": [
      "C:\\Users\\aross\\AppData\\Local\\Temp\\ipykernel_105956\\3024495292.py:5: SettingWithCopyWarning: \n",
      "A value is trying to be set on a copy of a slice from a DataFrame\n",
      "\n",
      "See the caveats in the documentation: https://pandas.pydata.org/pandas-docs/stable/user_guide/indexing.html#returning-a-view-versus-a-copy\n",
      "  e.drop(e.head(1).index, inplace=True)\n"
     ]
    },
    {
     "data": {
      "text/plain": [
       "Text(0, 0.5, 'economy tweets')"
      ]
     },
     "execution_count": 36,
     "metadata": {},
     "output_type": "execute_result"
    },
    {
     "data": {
      "image/png": "[encoded data removed]",
      "text/plain": [
       "<Figure size 864x720 with 1 Axes>"
      ]
     },
     "metadata": {
      "needs_background": "light"
     },
     "output_type": "display_data"
    }
   ],
   "source": [
    "# Users with most economy tweets\n",
    "\n",
    "d = pivot_clusters.sort_values(by = 'economic', ascending  = False)\n",
    "e = d.head(11)\n",
    "e.drop(e.head(1).index, inplace=True)\n",
    "\n",
    "plt.figure(figsize=(12,10))\n",
    "sns.barplot(x = e.index, y = e.economic)\n",
    "plt.title('Top tweets from users based on volume of ECONOMIC Tweets')\n",
    "plt.xticks(rotation=45)\n",
    "plt.xlabel('screen names')\n",
    "plt.ylabel('economy tweets')"
   ]
  },
  {
   "cell_type": "code",
   "execution_count": 37,
   "metadata": {},
   "outputs": [
    {
     "name": "stderr",
     "output_type": "stream",
     "text": [
      "C:\\Users\\aross\\AppData\\Local\\Temp\\ipykernel_105956\\2626418104.py:5: SettingWithCopyWarning: \n",
      "A value is trying to be set on a copy of a slice from a DataFrame\n",
      "\n",
      "See the caveats in the documentation: https://pandas.pydata.org/pandas-docs/stable/user_guide/indexing.html#returning-a-view-versus-a-copy\n",
      "  e.drop(e.head(2).index, inplace=True)\n"
     ]
    },
    {
     "data": {
      "text/plain": [
       "Text(0, 0.5, 'social tweets')"
      ]
     },
     "execution_count": 37,
     "metadata": {},
     "output_type": "execute_result"
    },
    {
     "data": {
      "image/png": "[encoded data removed]",
      "text/plain": [
       "<Figure size 864x720 with 1 Axes>"
      ]
     },
     "metadata": {
      "needs_background": "light"
     },
     "output_type": "display_data"
    }
   ],
   "source": [
    "# Users with most social tweets\n",
    "\n",
    "d = pivot_clusters.sort_values(by = 'social', ascending  = False)\n",
    "e = d.head(12)\n",
    "e.drop(e.head(2).index, inplace=True)\n",
    "\n",
    "\n",
    "plt.figure(figsize=(12,10))\n",
    "sns.barplot(x = e.index, y = e.social)\n",
    "plt.title('Top tweets from users based on volume of SOCIAL Tweets')\n",
    "plt.xticks(rotation=45)\n",
    "plt.xlabel('screen names')\n",
    "plt.ylabel('social tweets')"
   ]
  },
  {
   "cell_type": "code",
   "execution_count": 38,
   "metadata": {},
   "outputs": [
    {
     "name": "stderr",
     "output_type": "stream",
     "text": [
      "C:\\Users\\aross\\AppData\\Local\\Temp\\ipykernel_105956\\1054649620.py:5: SettingWithCopyWarning: \n",
      "A value is trying to be set on a copy of a slice from a DataFrame\n",
      "\n",
      "See the caveats in the documentation: https://pandas.pydata.org/pandas-docs/stable/user_guide/indexing.html#returning-a-view-versus-a-copy\n",
      "  e.drop(e.head(1).index, inplace=True)\n"
     ]
    },
    {
     "data": {
      "text/plain": [
       "Text(0, 0.5, 'culture tweets')"
      ]
     },
     "execution_count": 38,
     "metadata": {},
     "output_type": "execute_result"
    },
    {
     "data": {
      "image/png": "[encoded data removed]",
      "text/plain": [
       "<Figure size 864x720 with 1 Axes>"
      ]
     },
     "metadata": {
      "needs_background": "light"
     },
     "output_type": "display_data"
    }
   ],
   "source": [
    "# Users with most culture tweets\n",
    "\n",
    "d = pivot_clusters.sort_values(by = 'culture', ascending  = False)\n",
    "e = d.head(11)\n",
    "e.drop(e.head(1).index, inplace=True)\n",
    "\n",
    "\n",
    "plt.figure(figsize=(12,10))\n",
    "sns.barplot(x = e.index, y = e.culture)\n",
    "plt.title('Top tweets from users based on volume of Culture Tweets')\n",
    "plt.xticks(rotation=45)\n",
    "plt.xlabel('screen names')\n",
    "plt.ylabel('culture tweets')"
   ]
  },
  {
   "cell_type": "code",
   "execution_count": 39,
   "metadata": {},
   "outputs": [
    {
     "name": "stderr",
     "output_type": "stream",
     "text": [
      "C:\\Users\\aross\\AppData\\Local\\Temp\\ipykernel_105956\\1101869456.py:5: SettingWithCopyWarning: \n",
      "A value is trying to be set on a copy of a slice from a DataFrame\n",
      "\n",
      "See the caveats in the documentation: https://pandas.pydata.org/pandas-docs/stable/user_guide/indexing.html#returning-a-view-versus-a-copy\n",
      "  e.drop(e.head(2).index, inplace=True)\n"
     ]
    },
    {
     "data": {
      "text/plain": [
       "Text(0, 0.5, 'health tweets')"
      ]
     },
     "execution_count": 39,
     "metadata": {},
     "output_type": "execute_result"
    },
    {
     "data": {
      "image/png": "[encoded data removed]",
      "text/plain": [
       "<Figure size 864x720 with 1 Axes>"
      ]
     },
     "metadata": {
      "needs_background": "light"
     },
     "output_type": "display_data"
    }
   ],
   "source": [
    "# Users with most health tweets\n",
    "\n",
    "d = pivot_clusters.sort_values(by = 'health', ascending  = False)\n",
    "e = d.head(12)\n",
    "e.drop(e.head(2).index, inplace=True)\n",
    "\n",
    "\n",
    "plt.figure(figsize=(12,10))\n",
    "sns.barplot(x = e.index, y = e.health)\n",
    "plt.title('Top tweets from users based on volume of HEALTH Tweets')\n",
    "plt.xticks(rotation=45)\n",
    "plt.xlabel('screen names')\n",
    "plt.ylabel('health tweets')"
   ]
  },
  {
   "cell_type": "markdown",
   "metadata": {},
   "source": [
    "Distribution test and skewness"
   ]
  },
  {
   "cell_type": "code",
   "execution_count": 40,
   "metadata": {},
   "outputs": [],
   "source": [
    "from statistics import mean\n",
    "import re\n",
    "from scipy import stats\n",
    "from scipy.stats import skew, norm\n",
    "from scipy.special import boxcox1p\n",
    "from scipy.stats import boxcox_normmax\n",
    "from sklearn.preprocessing import StandardScaler"
   ]
  },
  {
   "cell_type": "code",
   "execution_count": 41,
   "metadata": {},
   "outputs": [
    {
     "name": "stdout",
     "output_type": "stream",
     "text": [
      "(243660, 5)\n",
      "(243659, 5)\n"
     ]
    }
   ],
   "source": [
    "# drop the totals row.\n",
    "print(pivot_clusters.shape)\n",
    "pivot_clusters.drop(pivot_clusters.tail(1).index,inplace=True)\n",
    "print(pivot_clusters.shape)"
   ]
  },
  {
   "cell_type": "markdown",
   "metadata": {},
   "source": [
    "ECONOMIC"
   ]
  },
  {
   "cell_type": "code",
   "execution_count": 42,
   "metadata": {},
   "outputs": [
    {
     "name": "stderr",
     "output_type": "stream",
     "text": [
      "C:\\Users\\aross\\anaconda3\\lib\\site-packages\\seaborn\\distributions.py:2619: FutureWarning: `distplot` is a deprecated function and will be removed in a future version. Please adapt your code to use either `displot` (a figure-level function with similar flexibility) or `histplot` (an axes-level function for histograms).\n",
      "  warnings.warn(msg, FutureWarning)\n"
     ]
    },
    {
     "name": "stdout",
     "output_type": "stream",
     "text": [
      "\n",
      " mu = 0.07 and sigma = 0.68\n",
      "\n"
     ]
    },
    {
     "data": {
      "image/png": "[encoded data removed]",
      "text/plain": [
       "<Figure size 432x288 with 1 Axes>"
      ]
     },
     "metadata": {
      "needs_background": "light"
     },
     "output_type": "display_data"
    },
    {
     "data": {
      "image/png": "[encoded data removed]",
      "text/plain": [
       "<Figure size 432x288 with 1 Axes>"
      ]
     },
     "metadata": {
      "needs_background": "light"
     },
     "output_type": "display_data"
    }
   ],
   "source": [
    "# Target variable\n",
    "sns.distplot(pivot_clusters.economic , fit=norm);\n",
    "\n",
    "# Get the fitted parameters used by the function\n",
    "(mu, sigma) = norm.fit(pivot_clusters.economic)\n",
    "print( '\\n mu = {:.2f} and sigma = {:.2f}\\n'.format(mu, sigma))\n",
    "\n",
    "#Plot the distribution\n",
    "plt.title('Ecocnomy tweets distribution plot')\n",
    "plt.legend(['Normal dist. ($\\mu=$ {:.2f} and $\\sigma=$ {:.2f} )'.format(mu, sigma)],\n",
    "            loc='best')\n",
    "plt.ylabel('Frequency')\n",
    "plt.title('y distribution')\n",
    "\n",
    "#Get also the QQ-plot\n",
    "fig = plt.figure()\n",
    "res = stats.probplot(pivot_clusters.economic, plot=plt)\n",
    "plt.show()"
   ]
  },
  {
   "cell_type": "markdown",
   "metadata": {},
   "source": [
    "SOCIAL"
   ]
  },
  {
   "cell_type": "code",
   "execution_count": 43,
   "metadata": {},
   "outputs": [
    {
     "name": "stderr",
     "output_type": "stream",
     "text": [
      "C:\\Users\\aross\\anaconda3\\lib\\site-packages\\seaborn\\distributions.py:2619: FutureWarning: `distplot` is a deprecated function and will be removed in a future version. Please adapt your code to use either `displot` (a figure-level function with similar flexibility) or `histplot` (an axes-level function for histograms).\n",
      "  warnings.warn(msg, FutureWarning)\n"
     ]
    },
    {
     "name": "stdout",
     "output_type": "stream",
     "text": [
      "\n",
      " mu = 0.28 and sigma = 1.25\n",
      "\n"
     ]
    },
    {
     "data": {
      "image/png": "[encoded data removed]",
      "text/plain": [
       "<Figure size 432x288 with 1 Axes>"
      ]
     },
     "metadata": {
      "needs_background": "light"
     },
     "output_type": "display_data"
    },
    {
     "data": {
      "image/png": "[encoded data removed]",
      "text/plain": [
       "<Figure size 432x288 with 1 Axes>"
      ]
     },
     "metadata": {
      "needs_background": "light"
     },
     "output_type": "display_data"
    }
   ],
   "source": [
    "# Target variable\n",
    "sns.distplot(pivot_clusters.social , fit=norm);\n",
    "\n",
    "# Get the fitted parameters used by the function\n",
    "(mu, sigma) = norm.fit(pivot_clusters.social)\n",
    "print( '\\n mu = {:.2f} and sigma = {:.2f}\\n'.format(mu, sigma))\n",
    "\n",
    "#Now plot the distribution\n",
    "plt.legend(['Normal dist. ($\\mu=$ {:.2f} and $\\sigma=$ {:.2f} )'.format(mu, sigma)],\n",
    "            loc='best')\n",
    "plt.title('Social tweets distribution plot')\n",
    "plt.ylabel('Frequency')\n",
    "plt.title('y distribution')\n",
    "\n",
    "#Get also the QQ-plot\n",
    "fig = plt.figure()\n",
    "res = stats.probplot(pivot_clusters.social, plot=plt)\n",
    "plt.show()"
   ]
  },
  {
   "cell_type": "markdown",
   "metadata": {},
   "source": [
    "CULTURE"
   ]
  },
  {
   "cell_type": "code",
   "execution_count": 44,
   "metadata": {},
   "outputs": [
    {
     "name": "stderr",
     "output_type": "stream",
     "text": [
      "C:\\Users\\aross\\anaconda3\\lib\\site-packages\\seaborn\\distributions.py:2619: FutureWarning: `distplot` is a deprecated function and will be removed in a future version. Please adapt your code to use either `displot` (a figure-level function with similar flexibility) or `histplot` (an axes-level function for histograms).\n",
      "  warnings.warn(msg, FutureWarning)\n"
     ]
    },
    {
     "name": "stdout",
     "output_type": "stream",
     "text": [
      "\n",
      " mu = 0.07 and sigma = 0.68\n",
      "\n"
     ]
    },
    {
     "data": {
      "image/png": "[encoded data removed]",
      "text/plain": [
       "<Figure size 432x288 with 1 Axes>"
      ]
     },
     "metadata": {
      "needs_background": "light"
     },
     "output_type": "display_data"
    },
    {
     "data": {
      "image/png": "[encoded data removed]",
      "text/plain": [
       "<Figure size 432x288 with 1 Axes>"
      ]
     },
     "metadata": {
      "needs_background": "light"
     },
     "output_type": "display_data"
    }
   ],
   "source": [
    "# Target variable\n",
    "sns.distplot(pivot_clusters.culture , fit=norm);\n",
    "\n",
    "# Get the fitted parameters used by the function\n",
    "(mu, sigma) = norm.fit(pivot_clusters.culture)\n",
    "print( '\\n mu = {:.2f} and sigma = {:.2f}\\n'.format(mu, sigma))\n",
    "\n",
    "#Now plot the distribution\n",
    "plt.legend(['Normal dist. ($\\mu=$ {:.2f} and $\\sigma=$ {:.2f} )'.format(mu, sigma)],\n",
    "            loc='best')\n",
    "plt.title('Culture tweets distribution plot')\n",
    "plt.ylabel('Frequency')\n",
    "plt.title('y distribution')\n",
    "\n",
    "#Get also the QQ-plot\n",
    "fig = plt.figure()\n",
    "res = stats.probplot(pivot_clusters.culture, plot=plt)\n",
    "plt.show()"
   ]
  },
  {
   "cell_type": "markdown",
   "metadata": {},
   "source": [
    "HEALTH"
   ]
  },
  {
   "cell_type": "code",
   "execution_count": 45,
   "metadata": {},
   "outputs": [
    {
     "name": "stderr",
     "output_type": "stream",
     "text": [
      "C:\\Users\\aross\\anaconda3\\lib\\site-packages\\seaborn\\distributions.py:2619: FutureWarning: `distplot` is a deprecated function and will be removed in a future version. Please adapt your code to use either `displot` (a figure-level function with similar flexibility) or `histplot` (an axes-level function for histograms).\n",
      "  warnings.warn(msg, FutureWarning)\n"
     ]
    },
    {
     "name": "stdout",
     "output_type": "stream",
     "text": [
      "\n",
      " mu = 1.61 and sigma = 5.01\n",
      "\n"
     ]
    },
    {
     "data": {
      "image/png": "[encoded data removed]",
      "text/plain": [
       "<Figure size 432x288 with 1 Axes>"
      ]
     },
     "metadata": {
      "needs_background": "light"
     },
     "output_type": "display_data"
    },
    {
     "data": {
      "image/png": "[encoded data removed]",
      "text/plain": [
       "<Figure size 432x288 with 1 Axes>"
      ]
     },
     "metadata": {
      "needs_background": "light"
     },
     "output_type": "display_data"
    }
   ],
   "source": [
    "# Target variable\n",
    "sns.distplot(pivot_clusters.health , fit=norm);\n",
    "\n",
    "# Get the fitted parameters used by the function\n",
    "(mu, sigma) = norm.fit(pivot_clusters.health)\n",
    "print( '\\n mu = {:.2f} and sigma = {:.2f}\\n'.format(mu, sigma))\n",
    "\n",
    "#Now plot the distribution\n",
    "plt.legend(['Normal dist. ($\\mu=$ {:.2f} and $\\sigma=$ {:.2f} )'.format(mu, sigma)],\n",
    "            loc='best')\n",
    "plt.title('Health tweets distribution plot')\n",
    "plt.ylabel('Frequency')\n",
    "plt.title('y distribution')\n",
    "\n",
    "#Get also the QQ-plot\n",
    "fig = plt.figure()\n",
    "res = stats.probplot(pivot_clusters.health, plot=plt)\n",
    "plt.show()"
   ]
  },
  {
   "cell_type": "markdown",
   "metadata": {},
   "source": [
    "KMeans Clustering.\n",
    "'Distance computation in k-Means weights each dimension equally and hence care must be taken to ensure that unit of dimension shouldn’t distort relative near-ness of observations. Common method is to unit-standardize each dimension individually.' The unit for the tweets are the same, therefore no need."
   ]
  },
  {
   "cell_type": "code",
   "execution_count": 46,
   "metadata": {},
   "outputs": [],
   "source": [
    "from sklearn.cluster import KMeans"
   ]
  },
  {
   "cell_type": "markdown",
   "metadata": {},
   "source": [
    "2D Clusters."
   ]
  },
  {
   "cell_type": "markdown",
   "metadata": {},
   "source": [
    "* Socio-Economic"
   ]
  },
  {
   "cell_type": "code",
   "execution_count": 47,
   "metadata": {},
   "outputs": [
    {
     "data": {
      "image/png": "[encoded data removed]",
      "text/plain": [
       "<Figure size 432x288 with 1 Axes>"
      ]
     },
     "metadata": {
      "needs_background": "light"
     },
     "output_type": "display_data"
    }
   ],
   "source": [
    "# fitting kmeans to dataset\n",
    "X = pivot_clusters[['economic', 'social']].values\n",
    "kmeans = KMeans(n_clusters=3, init='k-means++', n_init=10, max_iter=300, random_state=0)\n",
    "Y_kmeans = kmeans.fit_predict(X)\n",
    "\n",
    "# Visualising the clusters\n",
    "plt.scatter(X[Y_kmeans==0, 0], X[Y_kmeans==0, 1], s=100, c='violet', label= 'Cluster 1')\n",
    "plt.scatter(X[Y_kmeans==1, 0], X[Y_kmeans==1, 1], s=100, c='cyan', label= 'Cluster 2')\n",
    "plt.scatter(X[Y_kmeans==2, 0], X[Y_kmeans==2, 1], s=100, c='green', label= 'Cluster 3')\n",
    "plt.scatter(X[Y_kmeans==3, 0], X[Y_kmeans==3, 1], s=100, c='blue', label= 'Cluster 4')\n",
    "plt.scatter(kmeans.cluster_centers_[:, 0], kmeans.cluster_centers_[:, 1], s=100, c='black', label='Centroids' )\n",
    "plt.title('Clusters of tweets in economic and social groups')\n",
    "plt.xlabel('economic tweets')\n",
    "plt.ylabel('social tweets')\n",
    "plt.legend()\n",
    "plt.show()"
   ]
  },
  {
   "cell_type": "markdown",
   "metadata": {},
   "source": [
    "\n",
    "* Socio-Culture"
   ]
  },
  {
   "cell_type": "code",
   "execution_count": 48,
   "metadata": {},
   "outputs": [
    {
     "data": {
      "image/png": "[encoded data removed]",
      "text/plain": [
       "<Figure size 432x288 with 1 Axes>"
      ]
     },
     "metadata": {
      "needs_background": "light"
     },
     "output_type": "display_data"
    }
   ],
   "source": [
    "# fitting kmeans to dataset\n",
    "X = pivot_clusters[['social', 'culture']].values\n",
    "kmeans = KMeans(n_clusters=3, init='k-means++', n_init=10, max_iter=300, random_state=0)\n",
    "Y_kmeans = kmeans.fit_predict(X)\n",
    "\n",
    "# Visualising the clusters\n",
    "plt.scatter(X[Y_kmeans==0, 0], X[Y_kmeans==0, 1], s=100, c='violet', label= 'Cluster 1')\n",
    "plt.scatter(X[Y_kmeans==1, 0], X[Y_kmeans==1, 1], s=100, c='cyan', label= 'Cluster 2')\n",
    "plt.scatter(X[Y_kmeans==2, 0], X[Y_kmeans==2, 1], s=100, c='green', label= 'Cluster 3')\n",
    "plt.scatter(X[Y_kmeans==3, 0], X[Y_kmeans==3, 1], s=100, c='blue', label= 'Cluster 4')\n",
    "plt.scatter(kmeans.cluster_centers_[:, 0], kmeans.cluster_centers_[:, 1], s=100, c='black', label='Centroids' )\n",
    "plt.title('Clusters of tweets in culture and social groups')\n",
    "plt.xlabel('social tweets')\n",
    "plt.ylabel('culture tweets')\n",
    "plt.legend()\n",
    "plt.show()"
   ]
  },
  {
   "cell_type": "markdown",
   "metadata": {},
   "source": [
    "* Socio-Health\n"
   ]
  },
  {
   "cell_type": "code",
   "execution_count": 49,
   "metadata": {},
   "outputs": [
    {
     "data": {
      "image/png": "[encoded data removed]",
      "text/plain": [
       "<Figure size 432x288 with 1 Axes>"
      ]
     },
     "metadata": {
      "needs_background": "light"
     },
     "output_type": "display_data"
    }
   ],
   "source": [
    "# fitting kmeans to dataset\n",
    "X = pivot_clusters[['social', 'health']].values\n",
    "kmeans = KMeans(n_clusters=3, init='k-means++', n_init=10, max_iter=300, random_state=0)\n",
    "Y_kmeans = kmeans.fit_predict(X)\n",
    "\n",
    "# Visualising the clusters\n",
    "plt.scatter(X[Y_kmeans==0, 0], X[Y_kmeans==0, 1], s=100, c='violet', label= 'Cluster 1')\n",
    "plt.scatter(X[Y_kmeans==1, 0], X[Y_kmeans==1, 1], s=100, c='cyan', label= 'Cluster 2')\n",
    "plt.scatter(X[Y_kmeans==2, 0], X[Y_kmeans==2, 1], s=100, c='green', label= 'Cluster 3')\n",
    "plt.scatter(X[Y_kmeans==3, 0], X[Y_kmeans==3, 1], s=100, c='blue', label= 'Cluster 4')\n",
    "plt.scatter(kmeans.cluster_centers_[:, 0], kmeans.cluster_centers_[:, 1], s=100, c='black', label='Centroids' )\n",
    "plt.title('Clusters of tweets in health and social groups')\n",
    "plt.xlabel('social tweets')\n",
    "plt.ylabel('health tweets')\n",
    "plt.legend()\n",
    "plt.show()"
   ]
  },
  {
   "cell_type": "markdown",
   "metadata": {},
   "source": [
    "* Economic-health"
   ]
  },
  {
   "cell_type": "code",
   "execution_count": 50,
   "metadata": {},
   "outputs": [
    {
     "data": {
      "image/png": "[encoded data removed]",
      "text/plain": [
       "<Figure size 432x288 with 1 Axes>"
      ]
     },
     "metadata": {
      "needs_background": "light"
     },
     "output_type": "display_data"
    }
   ],
   "source": [
    "# fitting kmeans to dataset\n",
    "X = pivot_clusters[['economic', 'health']].values\n",
    "kmeans = KMeans(n_clusters=4, init='k-means++', n_init=10, max_iter=300, random_state=0)\n",
    "Y_kmeans = kmeans.fit_predict(X)\n",
    "\n",
    "# Visualising the clusters\n",
    "plt.scatter(X[Y_kmeans==0, 0], X[Y_kmeans==0, 1], s=100, c='violet', label= 'Cluster 1')\n",
    "plt.scatter(X[Y_kmeans==1, 0], X[Y_kmeans==1, 1], s=100, c='cyan', label= 'Cluster 2')\n",
    "plt.scatter(X[Y_kmeans==2, 0], X[Y_kmeans==2, 1], s=100, c='green', label= 'Cluster 3')\n",
    "plt.scatter(X[Y_kmeans==3, 0], X[Y_kmeans==3, 1], s=100, c='blue', label= 'Cluster 4')\n",
    "plt.scatter(kmeans.cluster_centers_[:, 0], kmeans.cluster_centers_[:, 1], s=100, c='black', label='Centroids' )\n",
    "plt.title('Clusters of tweets in economic and health groups')\n",
    "plt.xlabel('economic tweets')\n",
    "plt.ylabel('health tweets')\n",
    "plt.legend()\n",
    "plt.show()"
   ]
  },
  {
   "cell_type": "markdown",
   "metadata": {},
   "source": [
    "Economic-Culture"
   ]
  },
  {
   "cell_type": "code",
   "execution_count": 51,
   "metadata": {},
   "outputs": [
    {
     "data": {
      "image/png": "[encoded data removed]",
      "text/plain": [
       "<Figure size 432x288 with 1 Axes>"
      ]
     },
     "metadata": {
      "needs_background": "light"
     },
     "output_type": "display_data"
    }
   ],
   "source": [
    "# fitting kmeans to dataset\n",
    "X = pivot_clusters[['economic', 'culture']].values\n",
    "kmeans = KMeans(n_clusters=4, init='k-means++', n_init=10, max_iter=300, random_state=0)\n",
    "Y_kmeans = kmeans.fit_predict(X)\n",
    "\n",
    "# Visualising the clusters\n",
    "plt.scatter(X[Y_kmeans==0, 0], X[Y_kmeans==0, 1], s=100, c='violet', label= 'Cluster 1')\n",
    "plt.scatter(X[Y_kmeans==1, 0], X[Y_kmeans==1, 1], s=100, c='cyan', label= 'Cluster 2')\n",
    "plt.scatter(X[Y_kmeans==2, 0], X[Y_kmeans==2, 1], s=100, c='green', label= 'Cluster 3')\n",
    "plt.scatter(X[Y_kmeans==3, 0], X[Y_kmeans==3, 1], s=100, c='blue', label= 'Cluster 4')\n",
    "plt.scatter(kmeans.cluster_centers_[:, 0], kmeans.cluster_centers_[:, 1], s=100, c='black', label='Centroids' )\n",
    "plt.title('Clusters of tweets in economic and culture groups')\n",
    "plt.xlabel('economic tweets')\n",
    "plt.ylabel('culture tweets')\n",
    "plt.legend()\n",
    "plt.show()"
   ]
  },
  {
   "cell_type": "markdown",
   "metadata": {},
   "source": [
    "Health-Culture\n"
   ]
  },
  {
   "cell_type": "code",
   "execution_count": 52,
   "metadata": {},
   "outputs": [
    {
     "data": {
      "image/png": "[encoded data removed]",
      "text/plain": [
       "<Figure size 432x288 with 1 Axes>"
      ]
     },
     "metadata": {
      "needs_background": "light"
     },
     "output_type": "display_data"
    }
   ],
   "source": [
    "# fitting kmeans to dataset\n",
    "X = pivot_clusters[['health', 'culture']].values\n",
    "kmeans = KMeans(n_clusters=4, init='k-means++', n_init=10, max_iter=300, random_state=0)\n",
    "Y_kmeans = kmeans.fit_predict(X)\n",
    "\n",
    "# Visualising the clusters\n",
    "plt.scatter(X[Y_kmeans==0, 0], X[Y_kmeans==0, 1], s=70, c='violet', label= 'Cluster 1')\n",
    "plt.scatter(X[Y_kmeans==1, 0], X[Y_kmeans==1, 1], s=70, c='cyan', label= 'Cluster 2')\n",
    "plt.scatter(X[Y_kmeans==2, 0], X[Y_kmeans==2, 1], s=70, c='green', label= 'Cluster 3')\n",
    "plt.scatter(X[Y_kmeans==3, 0], X[Y_kmeans==3, 1], s=70, c='blue', label= 'Cluster 4')\n",
    "plt.scatter(kmeans.cluster_centers_[:, 0], kmeans.cluster_centers_[:, 1], s=100, c='black', label='Centroids' )\n",
    "plt.title('Clusters of tweets in culture and health groups')\n",
    "plt.xlabel('health tweets')\n",
    "plt.ylabel('culture tweets')\n",
    "plt.legend()\n",
    "plt.show()"
   ]
  },
  {
   "cell_type": "markdown",
   "metadata": {},
   "source": [
    "KMeans with PCA"
   ]
  },
  {
   "cell_type": "code",
   "execution_count": 53,
   "metadata": {},
   "outputs": [],
   "source": [
    "from sklearn.decomposition import PCA"
   ]
  },
  {
   "cell_type": "code",
   "execution_count": 54,
   "metadata": {},
   "outputs": [
    {
     "data": {
      "text/plain": [
       "PCA()"
      ]
     },
     "execution_count": 54,
     "metadata": {},
     "output_type": "execute_result"
    }
   ],
   "source": [
    "seg = pivot_clusters.copy()\n",
    "# seg = seg.drop\n",
    "\n",
    "pca = PCA()\n",
    "pca.fit(seg)"
   ]
  },
  {
   "cell_type": "code",
   "execution_count": 55,
   "metadata": {},
   "outputs": [
    {
     "data": {
      "text/plain": [
       "array([9.72726055e-01, 2.38210732e-02, 3.45287166e-03, 2.02752999e-27,\n",
       "       2.43620730e-35])"
      ]
     },
     "execution_count": 55,
     "metadata": {},
     "output_type": "execute_result"
    }
   ],
   "source": [
    "pca.explained_variance_ratio_"
   ]
  },
  {
   "cell_type": "code",
   "execution_count": 56,
   "metadata": {},
   "outputs": [
    {
     "data": {
      "text/plain": [
       "Text(0, 0.5, 'cummulative explained variance')"
      ]
     },
     "execution_count": 56,
     "metadata": {},
     "output_type": "execute_result"
    },
    {
     "data": {
      "image/png": "[encoded data removed]",
      "text/plain": [
       "<Figure size 576x432 with 1 Axes>"
      ]
     },
     "metadata": {
      "needs_background": "light"
     },
     "output_type": "display_data"
    }
   ],
   "source": [
    "plt.figure(figsize = (8,6))\n",
    "plt.plot(range(1,6), pca.explained_variance_ratio_.cumsum(), marker = 'o', linestyle = '--')\n",
    "plt.xlabel('components')\n",
    "plt.ylabel('cummulative explained variance')"
   ]
  },
  {
   "cell_type": "code",
   "execution_count": 57,
   "metadata": {},
   "outputs": [
    {
     "data": {
      "text/plain": [
       "PCA(n_components=2)"
      ]
     },
     "execution_count": 57,
     "metadata": {},
     "output_type": "execute_result"
    }
   ],
   "source": [
    "pca = PCA(n_components = 2)\n",
    "pca.fit(seg)"
   ]
  },
  {
   "cell_type": "code",
   "execution_count": 58,
   "metadata": {},
   "outputs": [],
   "source": [
    "scores = pca.transform(seg)"
   ]
  },
  {
   "cell_type": "code",
   "execution_count": 59,
   "metadata": {},
   "outputs": [
    {
     "data": {
      "text/plain": [
       "KMeans(n_clusters=4, random_state=0)"
      ]
     },
     "execution_count": 59,
     "metadata": {},
     "output_type": "execute_result"
    }
   ],
   "source": [
    "n = 4\n",
    "kmeans_pca = KMeans(n_clusters = n, init = 'k-means++', random_state = 0)\n",
    "kmeans_pca.fit(scores)"
   ]
  },
  {
   "cell_type": "code",
   "execution_count": 60,
   "metadata": {},
   "outputs": [],
   "source": [
    "c = pd.concat([seg.reset_index(drop = True), pd.DataFrame(scores)], axis = 1)\n",
    "c.columns.values[-2:] = ['component1', 'component2']\n",
    "c['segment_kmeans_pca'] = kmeans_pca.labels_"
   ]
  },
  {
   "cell_type": "code",
   "execution_count": 61,
   "metadata": {},
   "outputs": [
    {
     "data": {
      "text/html": [
       "<div>\n",
       "<style scoped>\n",
       "    .dataframe tbody tr th:only-of-type {\n",
       "        vertical-align: middle;\n",
       "    }\n",
       "\n",
       "    .dataframe tbody tr th {\n",
       "        vertical-align: top;\n",
       "    }\n",
       "\n",
       "    .dataframe thead th {\n",
       "        text-align: right;\n",
       "    }\n",
       "</style>\n",
       "<table border=\"1\" class=\"dataframe\">\n",
       "  <thead>\n",
       "    <tr style=\"text-align: right;\">\n",
       "      <th></th>\n",
       "      <th>economic</th>\n",
       "      <th>social</th>\n",
       "      <th>culture</th>\n",
       "      <th>health</th>\n",
       "      <th>total</th>\n",
       "      <th>component1</th>\n",
       "      <th>component2</th>\n",
       "      <th>segment_kmeans_pca</th>\n",
       "    </tr>\n",
       "  </thead>\n",
       "  <tbody>\n",
       "    <tr>\n",
       "      <th>243654</th>\n",
       "      <td>0</td>\n",
       "      <td>0</td>\n",
       "      <td>0</td>\n",
       "      <td>1</td>\n",
       "      <td>1</td>\n",
       "      <td>-1.209080</td>\n",
       "      <td>-0.140540</td>\n",
       "      <td>0</td>\n",
       "    </tr>\n",
       "    <tr>\n",
       "      <th>243655</th>\n",
       "      <td>0</td>\n",
       "      <td>0</td>\n",
       "      <td>0</td>\n",
       "      <td>2</td>\n",
       "      <td>2</td>\n",
       "      <td>0.171118</td>\n",
       "      <td>-0.448606</td>\n",
       "      <td>0</td>\n",
       "    </tr>\n",
       "    <tr>\n",
       "      <th>243656</th>\n",
       "      <td>0</td>\n",
       "      <td>0</td>\n",
       "      <td>0</td>\n",
       "      <td>0</td>\n",
       "      <td>0</td>\n",
       "      <td>-2.589277</td>\n",
       "      <td>0.167525</td>\n",
       "      <td>0</td>\n",
       "    </tr>\n",
       "    <tr>\n",
       "      <th>243657</th>\n",
       "      <td>1</td>\n",
       "      <td>10</td>\n",
       "      <td>1</td>\n",
       "      <td>4</td>\n",
       "      <td>16</td>\n",
       "      <td>13.885576</td>\n",
       "      <td>8.848696</td>\n",
       "      <td>0</td>\n",
       "    </tr>\n",
       "    <tr>\n",
       "      <th>243658</th>\n",
       "      <td>0</td>\n",
       "      <td>1</td>\n",
       "      <td>0</td>\n",
       "      <td>5</td>\n",
       "      <td>6</td>\n",
       "      <td>5.233956</td>\n",
       "      <td>-0.512560</td>\n",
       "      <td>0</td>\n",
       "    </tr>\n",
       "  </tbody>\n",
       "</table>\n",
       "</div>"
      ],
      "text/plain": [
       "        economic  social  culture  health  total  component1  component2  \\\n",
       "243654         0       0        0       1      1   -1.209080   -0.140540   \n",
       "243655         0       0        0       2      2    0.171118   -0.448606   \n",
       "243656         0       0        0       0      0   -2.589277    0.167525   \n",
       "243657         1      10        1       4     16   13.885576    8.848696   \n",
       "243658         0       1        0       5      6    5.233956   -0.512560   \n",
       "\n",
       "        segment_kmeans_pca  \n",
       "243654                   0  \n",
       "243655                   0  \n",
       "243656                   0  \n",
       "243657                   0  \n",
       "243658                   0  "
      ]
     },
     "execution_count": 61,
     "metadata": {},
     "output_type": "execute_result"
    }
   ],
   "source": [
    "c.tail()"
   ]
  },
  {
   "cell_type": "code",
   "execution_count": 62,
   "metadata": {},
   "outputs": [
    {
     "data": {
      "text/plain": [
       "Text(0.5, 1.0, 'Clusters by PCA')"
      ]
     },
     "execution_count": 62,
     "metadata": {},
     "output_type": "execute_result"
    },
    {
     "data": {
      "image/png": "[encoded data removed]",
      "text/plain": [
       "<Figure size 720x576 with 1 Axes>"
      ]
     },
     "metadata": {
      "needs_background": "light"
     },
     "output_type": "display_data"
    }
   ],
   "source": [
    "plt.figure(figsize = (10,8))\n",
    "sns.scatterplot(x = c['component1'], y = c['component2'], hue = c['segment_kmeans_pca'], palette = ['g', 'r', 'b', 'y'])\n",
    "plt.title('Clusters by PCA')"
   ]
  },
  {
   "cell_type": "code",
   "execution_count": 63,
   "metadata": {},
   "outputs": [],
   "source": [
    "tweets = pd.read_csv(\"Recession-June-July-500k-Tweets.csv\")"
   ]
  },
  {
   "cell_type": "code",
   "execution_count": 64,
   "metadata": {},
   "outputs": [
    {
     "data": {
      "text/html": [
       "<div>\n",
       "<style scoped>\n",
       "    .dataframe tbody tr th:only-of-type {\n",
       "        vertical-align: middle;\n",
       "    }\n",
       "\n",
       "    .dataframe tbody tr th {\n",
       "        vertical-align: top;\n",
       "    }\n",
       "\n",
       "    .dataframe thead th {\n",
       "        text-align: right;\n",
       "    }\n",
       "</style>\n",
       "<table border=\"1\" class=\"dataframe\">\n",
       "  <thead>\n",
       "    <tr style=\"text-align: right;\">\n",
       "      <th></th>\n",
       "      <th>Unnamed: 0</th>\n",
       "      <th>User</th>\n",
       "      <th>Date Created</th>\n",
       "      <th>Tweet</th>\n",
       "      <th>Favourite Count</th>\n",
       "      <th>Number of Likes</th>\n",
       "      <th>Retweeet Count</th>\n",
       "      <th>Reply Count</th>\n",
       "      <th>Retweeted Tweet</th>\n",
       "      <th>Language</th>\n",
       "    </tr>\n",
       "  </thead>\n",
       "  <tbody>\n",
       "    <tr>\n",
       "      <th>0</th>\n",
       "      <td>0</td>\n",
       "      <td>Makarov_Igor</td>\n",
       "      <td>2022-07-28 23:59:59+00:00</td>\n",
       "      <td>It is sad, but we are officially in #recession...</td>\n",
       "      <td>98</td>\n",
       "      <td>0</td>\n",
       "      <td>0</td>\n",
       "      <td>0</td>\n",
       "      <td>NaN</td>\n",
       "      <td>en</td>\n",
       "    </tr>\n",
       "    <tr>\n",
       "      <th>1</th>\n",
       "      <td>1</td>\n",
       "      <td>quail_jay</td>\n",
       "      <td>2022-07-28 23:59:56+00:00</td>\n",
       "      <td>@tedcruz Orwell said the greatest threat by so...</td>\n",
       "      <td>1896</td>\n",
       "      <td>0</td>\n",
       "      <td>0</td>\n",
       "      <td>0</td>\n",
       "      <td>NaN</td>\n",
       "      <td>en</td>\n",
       "    </tr>\n",
       "    <tr>\n",
       "      <th>2</th>\n",
       "      <td>2</td>\n",
       "      <td>ShibaInuOnly</td>\n",
       "      <td>2022-07-28 23:59:55+00:00</td>\n",
       "      <td>Glad to be part of the 1% that remains bullish...</td>\n",
       "      <td>5</td>\n",
       "      <td>7</td>\n",
       "      <td>2</td>\n",
       "      <td>0</td>\n",
       "      <td>NaN</td>\n",
       "      <td>en</td>\n",
       "    </tr>\n",
       "    <tr>\n",
       "      <th>3</th>\n",
       "      <td>3</td>\n",
       "      <td>BenSpin2</td>\n",
       "      <td>2022-07-28 23:59:55+00:00</td>\n",
       "      <td>@HawleyMO I think we'll call this the Hawley r...</td>\n",
       "      <td>9</td>\n",
       "      <td>0</td>\n",
       "      <td>0</td>\n",
       "      <td>0</td>\n",
       "      <td>NaN</td>\n",
       "      <td>en</td>\n",
       "    </tr>\n",
       "    <tr>\n",
       "      <th>4</th>\n",
       "      <td>4</td>\n",
       "      <td>RJCass1</td>\n",
       "      <td>2022-07-28 23:59:55+00:00</td>\n",
       "      <td>@ArowynPitts @BCozatt @MarshaBlackburn FYI, ge...</td>\n",
       "      <td>9092</td>\n",
       "      <td>1</td>\n",
       "      <td>0</td>\n",
       "      <td>0</td>\n",
       "      <td>NaN</td>\n",
       "      <td>en</td>\n",
       "    </tr>\n",
       "  </tbody>\n",
       "</table>\n",
       "</div>"
      ],
      "text/plain": [
       "   Unnamed: 0          User               Date Created  \\\n",
       "0           0  Makarov_Igor  2022-07-28 23:59:59+00:00   \n",
       "1           1     quail_jay  2022-07-28 23:59:56+00:00   \n",
       "2           2  ShibaInuOnly  2022-07-28 23:59:55+00:00   \n",
       "3           3      BenSpin2  2022-07-28 23:59:55+00:00   \n",
       "4           4       RJCass1  2022-07-28 23:59:55+00:00   \n",
       "\n",
       "                                               Tweet  Favourite Count  \\\n",
       "0  It is sad, but we are officially in #recession...               98   \n",
       "1  @tedcruz Orwell said the greatest threat by so...             1896   \n",
       "2  Glad to be part of the 1% that remains bullish...                5   \n",
       "3  @HawleyMO I think we'll call this the Hawley r...                9   \n",
       "4  @ArowynPitts @BCozatt @MarshaBlackburn FYI, ge...             9092   \n",
       "\n",
       "   Number of Likes  Retweeet Count  Reply Count  Retweeted Tweet Language  \n",
       "0                0               0            0              NaN       en  \n",
       "1                0               0            0              NaN       en  \n",
       "2                7               2            0              NaN       en  \n",
       "3                0               0            0              NaN       en  \n",
       "4                1               0            0              NaN       en  "
      ]
     },
     "execution_count": 64,
     "metadata": {},
     "output_type": "execute_result"
    }
   ],
   "source": [
    "tweets.head()"
   ]
  },
  {
   "cell_type": "code",
   "execution_count": 65,
   "metadata": {},
   "outputs": [
    {
     "data": {
      "text/html": [
       "<div>\n",
       "<style scoped>\n",
       "    .dataframe tbody tr th:only-of-type {\n",
       "        vertical-align: middle;\n",
       "    }\n",
       "\n",
       "    .dataframe tbody tr th {\n",
       "        vertical-align: top;\n",
       "    }\n",
       "\n",
       "    .dataframe thead th {\n",
       "        text-align: right;\n",
       "    }\n",
       "</style>\n",
       "<table border=\"1\" class=\"dataframe\">\n",
       "  <thead>\n",
       "    <tr style=\"text-align: right;\">\n",
       "      <th></th>\n",
       "      <th>Unnamed: 0</th>\n",
       "      <th>User</th>\n",
       "      <th>Date Created</th>\n",
       "      <th>Tweet</th>\n",
       "      <th>Favourite Count</th>\n",
       "      <th>Number of Likes</th>\n",
       "      <th>Retweeet Count</th>\n",
       "      <th>Reply Count</th>\n",
       "      <th>Retweeted Tweet</th>\n",
       "      <th>Language</th>\n",
       "      <th>scores</th>\n",
       "    </tr>\n",
       "  </thead>\n",
       "  <tbody>\n",
       "    <tr>\n",
       "      <th>210246</th>\n",
       "      <td>210246</td>\n",
       "      <td>DonaldJTrumpJr</td>\n",
       "      <td>2022-07-25 12:24:18+00:00</td>\n",
       "      <td>Apparently The White House is changing the def...</td>\n",
       "      <td>27508</td>\n",
       "      <td>74318</td>\n",
       "      <td>12558</td>\n",
       "      <td>6189</td>\n",
       "      <td>NaN</td>\n",
       "      <td>en</td>\n",
       "      <td>93065</td>\n",
       "    </tr>\n",
       "    <tr>\n",
       "      <th>119961</th>\n",
       "      <td>119961</td>\n",
       "      <td>ConanOBrien</td>\n",
       "      <td>2022-07-27 18:20:13+00:00</td>\n",
       "      <td>The White House now says it’s only a recession...</td>\n",
       "      <td>1</td>\n",
       "      <td>71836</td>\n",
       "      <td>8465</td>\n",
       "      <td>1789</td>\n",
       "      <td>NaN</td>\n",
       "      <td>en</td>\n",
       "      <td>82090</td>\n",
       "    </tr>\n",
       "    <tr>\n",
       "      <th>131703</th>\n",
       "      <td>131703</td>\n",
       "      <td>Jim_Jordan</td>\n",
       "      <td>2022-07-27 12:31:04+00:00</td>\n",
       "      <td>If you’re not worried about a recession, why c...</td>\n",
       "      <td>4262</td>\n",
       "      <td>47585</td>\n",
       "      <td>7660</td>\n",
       "      <td>6057</td>\n",
       "      <td>NaN</td>\n",
       "      <td>en</td>\n",
       "      <td>61302</td>\n",
       "    </tr>\n",
       "    <tr>\n",
       "      <th>208209</th>\n",
       "      <td>208209</td>\n",
       "      <td>laurenboebert</td>\n",
       "      <td>2022-07-25 13:35:51+00:00</td>\n",
       "      <td>If we weren’t in a recession, the White House ...</td>\n",
       "      <td>4552</td>\n",
       "      <td>46430</td>\n",
       "      <td>8650</td>\n",
       "      <td>3181</td>\n",
       "      <td>NaN</td>\n",
       "      <td>en</td>\n",
       "      <td>58261</td>\n",
       "    </tr>\n",
       "    <tr>\n",
       "      <th>92519</th>\n",
       "      <td>92519</td>\n",
       "      <td>Jim_Jordan</td>\n",
       "      <td>2022-07-28 12:34:09+00:00</td>\n",
       "      <td>Recession.</td>\n",
       "      <td>4262</td>\n",
       "      <td>38188</td>\n",
       "      <td>5536</td>\n",
       "      <td>12776</td>\n",
       "      <td>NaN</td>\n",
       "      <td>en</td>\n",
       "      <td>56500</td>\n",
       "    </tr>\n",
       "  </tbody>\n",
       "</table>\n",
       "</div>"
      ],
      "text/plain": [
       "        Unnamed: 0            User               Date Created  \\\n",
       "210246      210246  DonaldJTrumpJr  2022-07-25 12:24:18+00:00   \n",
       "119961      119961     ConanOBrien  2022-07-27 18:20:13+00:00   \n",
       "131703      131703      Jim_Jordan  2022-07-27 12:31:04+00:00   \n",
       "208209      208209   laurenboebert  2022-07-25 13:35:51+00:00   \n",
       "92519        92519      Jim_Jordan  2022-07-28 12:34:09+00:00   \n",
       "\n",
       "                                                    Tweet  Favourite Count  \\\n",
       "210246  Apparently The White House is changing the def...            27508   \n",
       "119961  The White House now says it’s only a recession...                1   \n",
       "131703  If you’re not worried about a recession, why c...             4262   \n",
       "208209  If we weren’t in a recession, the White House ...             4552   \n",
       "92519                                          Recession.             4262   \n",
       "\n",
       "        Number of Likes  Retweeet Count  Reply Count  Retweeted Tweet  \\\n",
       "210246            74318           12558         6189              NaN   \n",
       "119961            71836            8465         1789              NaN   \n",
       "131703            47585            7660         6057              NaN   \n",
       "208209            46430            8650         3181              NaN   \n",
       "92519             38188            5536        12776              NaN   \n",
       "\n",
       "       Language  scores  \n",
       "210246       en   93065  \n",
       "119961       en   82090  \n",
       "131703       en   61302  \n",
       "208209       en   58261  \n",
       "92519        en   56500  "
      ]
     },
     "execution_count": 65,
     "metadata": {},
     "output_type": "execute_result"
    }
   ],
   "source": [
    "'''create a scores column, sort values by scores, do analysis on top 500 tweets'''\n",
    "\n",
    "tweets['scores'] = tweets['Number of Likes'] + tweets[\"Retweeet Count\"] + tweets['Reply Count']\n",
    "top_tweets = tweets.sort_values(by = 'scores', ascending = False)\n",
    "top_tweets.head()"
   ]
  },
  {
   "cell_type": "code",
   "execution_count": 66,
   "metadata": {},
   "outputs": [],
   "source": [
    "#explore the time stamps and create groups\n",
    "\n",
    "top_tweets['Date Created'] = pd.to_datetime(top_tweets['Date Created'])"
   ]
  },
  {
   "cell_type": "code",
   "execution_count": 67,
   "metadata": {},
   "outputs": [
    {
     "data": {
      "text/html": [
       "<div>\n",
       "<style scoped>\n",
       "    .dataframe tbody tr th:only-of-type {\n",
       "        vertical-align: middle;\n",
       "    }\n",
       "\n",
       "    .dataframe tbody tr th {\n",
       "        vertical-align: top;\n",
       "    }\n",
       "\n",
       "    .dataframe thead th {\n",
       "        text-align: right;\n",
       "    }\n",
       "</style>\n",
       "<table border=\"1\" class=\"dataframe\">\n",
       "  <thead>\n",
       "    <tr style=\"text-align: right;\">\n",
       "      <th></th>\n",
       "      <th>Unnamed: 0</th>\n",
       "      <th>User</th>\n",
       "      <th>Date Created</th>\n",
       "      <th>Tweet</th>\n",
       "      <th>Favourite Count</th>\n",
       "      <th>Number of Likes</th>\n",
       "      <th>Retweeet Count</th>\n",
       "      <th>Reply Count</th>\n",
       "      <th>Retweeted Tweet</th>\n",
       "      <th>Language</th>\n",
       "      <th>scores</th>\n",
       "    </tr>\n",
       "  </thead>\n",
       "  <tbody>\n",
       "    <tr>\n",
       "      <th>210246</th>\n",
       "      <td>210246</td>\n",
       "      <td>DonaldJTrumpJr</td>\n",
       "      <td>2022-07-25 12:24:18+00:00</td>\n",
       "      <td>Apparently The White House is changing the def...</td>\n",
       "      <td>27508</td>\n",
       "      <td>74318</td>\n",
       "      <td>12558</td>\n",
       "      <td>6189</td>\n",
       "      <td>NaN</td>\n",
       "      <td>en</td>\n",
       "      <td>93065</td>\n",
       "    </tr>\n",
       "    <tr>\n",
       "      <th>119961</th>\n",
       "      <td>119961</td>\n",
       "      <td>ConanOBrien</td>\n",
       "      <td>2022-07-27 18:20:13+00:00</td>\n",
       "      <td>The White House now says it’s only a recession...</td>\n",
       "      <td>1</td>\n",
       "      <td>71836</td>\n",
       "      <td>8465</td>\n",
       "      <td>1789</td>\n",
       "      <td>NaN</td>\n",
       "      <td>en</td>\n",
       "      <td>82090</td>\n",
       "    </tr>\n",
       "    <tr>\n",
       "      <th>131703</th>\n",
       "      <td>131703</td>\n",
       "      <td>Jim_Jordan</td>\n",
       "      <td>2022-07-27 12:31:04+00:00</td>\n",
       "      <td>If you’re not worried about a recession, why c...</td>\n",
       "      <td>4262</td>\n",
       "      <td>47585</td>\n",
       "      <td>7660</td>\n",
       "      <td>6057</td>\n",
       "      <td>NaN</td>\n",
       "      <td>en</td>\n",
       "      <td>61302</td>\n",
       "    </tr>\n",
       "    <tr>\n",
       "      <th>208209</th>\n",
       "      <td>208209</td>\n",
       "      <td>laurenboebert</td>\n",
       "      <td>2022-07-25 13:35:51+00:00</td>\n",
       "      <td>If we weren’t in a recession, the White House ...</td>\n",
       "      <td>4552</td>\n",
       "      <td>46430</td>\n",
       "      <td>8650</td>\n",
       "      <td>3181</td>\n",
       "      <td>NaN</td>\n",
       "      <td>en</td>\n",
       "      <td>58261</td>\n",
       "    </tr>\n",
       "    <tr>\n",
       "      <th>92519</th>\n",
       "      <td>92519</td>\n",
       "      <td>Jim_Jordan</td>\n",
       "      <td>2022-07-28 12:34:09+00:00</td>\n",
       "      <td>Recession.</td>\n",
       "      <td>4262</td>\n",
       "      <td>38188</td>\n",
       "      <td>5536</td>\n",
       "      <td>12776</td>\n",
       "      <td>NaN</td>\n",
       "      <td>en</td>\n",
       "      <td>56500</td>\n",
       "    </tr>\n",
       "  </tbody>\n",
       "</table>\n",
       "</div>"
      ],
      "text/plain": [
       "        Unnamed: 0            User              Date Created  \\\n",
       "210246      210246  DonaldJTrumpJr 2022-07-25 12:24:18+00:00   \n",
       "119961      119961     ConanOBrien 2022-07-27 18:20:13+00:00   \n",
       "131703      131703      Jim_Jordan 2022-07-27 12:31:04+00:00   \n",
       "208209      208209   laurenboebert 2022-07-25 13:35:51+00:00   \n",
       "92519        92519      Jim_Jordan 2022-07-28 12:34:09+00:00   \n",
       "\n",
       "                                                    Tweet  Favourite Count  \\\n",
       "210246  Apparently The White House is changing the def...            27508   \n",
       "119961  The White House now says it’s only a recession...                1   \n",
       "131703  If you’re not worried about a recession, why c...             4262   \n",
       "208209  If we weren’t in a recession, the White House ...             4552   \n",
       "92519                                          Recession.             4262   \n",
       "\n",
       "        Number of Likes  Retweeet Count  Reply Count  Retweeted Tweet  \\\n",
       "210246            74318           12558         6189              NaN   \n",
       "119961            71836            8465         1789              NaN   \n",
       "131703            47585            7660         6057              NaN   \n",
       "208209            46430            8650         3181              NaN   \n",
       "92519             38188            5536        12776              NaN   \n",
       "\n",
       "       Language  scores  \n",
       "210246       en   93065  \n",
       "119961       en   82090  \n",
       "131703       en   61302  \n",
       "208209       en   58261  \n",
       "92519        en   56500  "
      ]
     },
     "execution_count": 67,
     "metadata": {},
     "output_type": "execute_result"
    }
   ],
   "source": [
    "\n",
    "top_tweets.head()"
   ]
  },
  {
   "cell_type": "code",
   "execution_count": 68,
   "metadata": {},
   "outputs": [
    {
     "name": "stdout",
     "output_type": "stream",
     "text": [
      "<class 'pandas.core.frame.DataFrame'>\n",
      "Int64Index: 500001 entries, 210246 to 250000\n",
      "Data columns (total 11 columns):\n",
      " #   Column           Non-Null Count   Dtype              \n",
      "---  ------           --------------   -----              \n",
      " 0   Unnamed: 0       500001 non-null  int64              \n",
      " 1   User             500001 non-null  object             \n",
      " 2   Date Created     500001 non-null  datetime64[ns, UTC]\n",
      " 3   Tweet            500001 non-null  object             \n",
      " 4   Favourite Count  500001 non-null  int64              \n",
      " 5   Number of Likes  500001 non-null  int64              \n",
      " 6   Retweeet Count   500001 non-null  int64              \n",
      " 7   Reply Count      500001 non-null  int64              \n",
      " 8   Retweeted Tweet  0 non-null       float64            \n",
      " 9   Language         500001 non-null  object             \n",
      " 10  scores           500001 non-null  int64              \n",
      "dtypes: datetime64[ns, UTC](1), float64(1), int64(6), object(3)\n",
      "memory usage: 45.8+ MB\n"
     ]
    }
   ],
   "source": [
    "top_tweets.info()"
   ]
  },
  {
   "cell_type": "code",
   "execution_count": 69,
   "metadata": {},
   "outputs": [
    {
     "name": "stderr",
     "output_type": "stream",
     "text": [
      "C:\\Users\\aross\\AppData\\Local\\Temp\\ipykernel_105956\\2995151116.py:1: FutureWarning: Treating datetime data as categorical rather than numeric in `.describe` is deprecated and will be removed in a future version of pandas. Specify `datetime_is_numeric=True` to silence this warning and adopt the future behavior now.\n",
      "  top_tweets['Date Created'].describe()\n"
     ]
    },
    {
     "data": {
      "text/plain": [
       "count                        500001\n",
       "unique                       392044\n",
       "top       2022-07-26 13:16:01+00:00\n",
       "freq                             19\n",
       "first     2022-06-25 08:34:00+00:00\n",
       "last      2022-07-28 23:59:59+00:00\n",
       "Name: Date Created, dtype: object"
      ]
     },
     "execution_count": 69,
     "metadata": {},
     "output_type": "execute_result"
    }
   ],
   "source": [
    "top_tweets['Date Created'].describe()"
   ]
  },
  {
   "cell_type": "code",
   "execution_count": 70,
   "metadata": {},
   "outputs": [
    {
     "data": {
      "text/html": [
       "<div>\n",
       "<style scoped>\n",
       "    .dataframe tbody tr th:only-of-type {\n",
       "        vertical-align: middle;\n",
       "    }\n",
       "\n",
       "    .dataframe tbody tr th {\n",
       "        vertical-align: top;\n",
       "    }\n",
       "\n",
       "    .dataframe thead th {\n",
       "        text-align: right;\n",
       "    }\n",
       "</style>\n",
       "<table border=\"1\" class=\"dataframe\">\n",
       "  <thead>\n",
       "    <tr style=\"text-align: right;\">\n",
       "      <th></th>\n",
       "      <th>Unnamed: 0</th>\n",
       "      <th>User</th>\n",
       "      <th>Date Created</th>\n",
       "      <th>Tweet</th>\n",
       "      <th>Favourite Count</th>\n",
       "      <th>Number of Likes</th>\n",
       "      <th>Retweeet Count</th>\n",
       "      <th>Reply Count</th>\n",
       "      <th>Retweeted Tweet</th>\n",
       "      <th>Language</th>\n",
       "      <th>scores</th>\n",
       "      <th>Year</th>\n",
       "      <th>Month</th>\n",
       "      <th>Weekday</th>\n",
       "    </tr>\n",
       "  </thead>\n",
       "  <tbody>\n",
       "    <tr>\n",
       "      <th>210246</th>\n",
       "      <td>210246</td>\n",
       "      <td>DonaldJTrumpJr</td>\n",
       "      <td>2022-07-25 12:24:18+00:00</td>\n",
       "      <td>Apparently The White House is changing the def...</td>\n",
       "      <td>27508</td>\n",
       "      <td>74318</td>\n",
       "      <td>12558</td>\n",
       "      <td>6189</td>\n",
       "      <td>NaN</td>\n",
       "      <td>en</td>\n",
       "      <td>93065</td>\n",
       "      <td>2022</td>\n",
       "      <td>7</td>\n",
       "      <td>0</td>\n",
       "    </tr>\n",
       "    <tr>\n",
       "      <th>119961</th>\n",
       "      <td>119961</td>\n",
       "      <td>ConanOBrien</td>\n",
       "      <td>2022-07-27 18:20:13+00:00</td>\n",
       "      <td>The White House now says it’s only a recession...</td>\n",
       "      <td>1</td>\n",
       "      <td>71836</td>\n",
       "      <td>8465</td>\n",
       "      <td>1789</td>\n",
       "      <td>NaN</td>\n",
       "      <td>en</td>\n",
       "      <td>82090</td>\n",
       "      <td>2022</td>\n",
       "      <td>7</td>\n",
       "      <td>2</td>\n",
       "    </tr>\n",
       "    <tr>\n",
       "      <th>131703</th>\n",
       "      <td>131703</td>\n",
       "      <td>Jim_Jordan</td>\n",
       "      <td>2022-07-27 12:31:04+00:00</td>\n",
       "      <td>If you’re not worried about a recession, why c...</td>\n",
       "      <td>4262</td>\n",
       "      <td>47585</td>\n",
       "      <td>7660</td>\n",
       "      <td>6057</td>\n",
       "      <td>NaN</td>\n",
       "      <td>en</td>\n",
       "      <td>61302</td>\n",
       "      <td>2022</td>\n",
       "      <td>7</td>\n",
       "      <td>2</td>\n",
       "    </tr>\n",
       "    <tr>\n",
       "      <th>208209</th>\n",
       "      <td>208209</td>\n",
       "      <td>laurenboebert</td>\n",
       "      <td>2022-07-25 13:35:51+00:00</td>\n",
       "      <td>If we weren’t in a recession, the White House ...</td>\n",
       "      <td>4552</td>\n",
       "      <td>46430</td>\n",
       "      <td>8650</td>\n",
       "      <td>3181</td>\n",
       "      <td>NaN</td>\n",
       "      <td>en</td>\n",
       "      <td>58261</td>\n",
       "      <td>2022</td>\n",
       "      <td>7</td>\n",
       "      <td>0</td>\n",
       "    </tr>\n",
       "    <tr>\n",
       "      <th>92519</th>\n",
       "      <td>92519</td>\n",
       "      <td>Jim_Jordan</td>\n",
       "      <td>2022-07-28 12:34:09+00:00</td>\n",
       "      <td>Recession.</td>\n",
       "      <td>4262</td>\n",
       "      <td>38188</td>\n",
       "      <td>5536</td>\n",
       "      <td>12776</td>\n",
       "      <td>NaN</td>\n",
       "      <td>en</td>\n",
       "      <td>56500</td>\n",
       "      <td>2022</td>\n",
       "      <td>7</td>\n",
       "      <td>3</td>\n",
       "    </tr>\n",
       "    <tr>\n",
       "      <th>192004</th>\n",
       "      <td>192004</td>\n",
       "      <td>RoryStewartUK</td>\n",
       "      <td>2022-07-25 20:30:45+00:00</td>\n",
       "      <td>And again  Liz Truss keeps saying Levelling up...</td>\n",
       "      <td>7699</td>\n",
       "      <td>46150</td>\n",
       "      <td>7969</td>\n",
       "      <td>1312</td>\n",
       "      <td>NaN</td>\n",
       "      <td>en</td>\n",
       "      <td>55431</td>\n",
       "      <td>2022</td>\n",
       "      <td>7</td>\n",
       "      <td>0</td>\n",
       "    </tr>\n",
       "    <tr>\n",
       "      <th>92552</th>\n",
       "      <td>92552</td>\n",
       "      <td>cvpayne</td>\n",
       "      <td>2022-07-28 12:34:04+00:00</td>\n",
       "      <td>Breaking News: Folks We Are In Recession\\n2Q22...</td>\n",
       "      <td>24126</td>\n",
       "      <td>33739</td>\n",
       "      <td>7473</td>\n",
       "      <td>1761</td>\n",
       "      <td>NaN</td>\n",
       "      <td>en</td>\n",
       "      <td>42973</td>\n",
       "      <td>2022</td>\n",
       "      <td>7</td>\n",
       "      <td>3</td>\n",
       "    </tr>\n",
       "    <tr>\n",
       "      <th>436486</th>\n",
       "      <td>436486</td>\n",
       "      <td>thebradfordfile</td>\n",
       "      <td>2022-07-01 21:26:15+00:00</td>\n",
       "      <td>Biden owns this recession. He is the worst pre...</td>\n",
       "      <td>125517</td>\n",
       "      <td>34521</td>\n",
       "      <td>4721</td>\n",
       "      <td>1017</td>\n",
       "      <td>NaN</td>\n",
       "      <td>en</td>\n",
       "      <td>40259</td>\n",
       "      <td>2022</td>\n",
       "      <td>7</td>\n",
       "      <td>4</td>\n",
       "    </tr>\n",
       "    <tr>\n",
       "      <th>60758</th>\n",
       "      <td>60758</td>\n",
       "      <td>DavidSacks</td>\n",
       "      <td>2022-07-28 14:55:20+00:00</td>\n",
       "      <td>A lot of people are wondering about the defini...</td>\n",
       "      <td>29903</td>\n",
       "      <td>31210</td>\n",
       "      <td>5817</td>\n",
       "      <td>854</td>\n",
       "      <td>NaN</td>\n",
       "      <td>en</td>\n",
       "      <td>37881</td>\n",
       "      <td>2022</td>\n",
       "      <td>7</td>\n",
       "      <td>3</td>\n",
       "    </tr>\n",
       "    <tr>\n",
       "      <th>88274</th>\n",
       "      <td>88274</td>\n",
       "      <td>JackPosobiec</td>\n",
       "      <td>2022-07-28 12:46:37+00:00</td>\n",
       "      <td>Recession is when your neighbor loses his job\\...</td>\n",
       "      <td>118572</td>\n",
       "      <td>29859</td>\n",
       "      <td>6561</td>\n",
       "      <td>414</td>\n",
       "      <td>NaN</td>\n",
       "      <td>en</td>\n",
       "      <td>36834</td>\n",
       "      <td>2022</td>\n",
       "      <td>7</td>\n",
       "      <td>3</td>\n",
       "    </tr>\n",
       "    <tr>\n",
       "      <th>103035</th>\n",
       "      <td>103035</td>\n",
       "      <td>thebradfordfile</td>\n",
       "      <td>2022-07-28 02:23:40+00:00</td>\n",
       "      <td>If Trump was president, the media wouldn't be ...</td>\n",
       "      <td>125517</td>\n",
       "      <td>29939</td>\n",
       "      <td>4317</td>\n",
       "      <td>735</td>\n",
       "      <td>NaN</td>\n",
       "      <td>en</td>\n",
       "      <td>34991</td>\n",
       "      <td>2022</td>\n",
       "      <td>7</td>\n",
       "      <td>3</td>\n",
       "    </tr>\n",
       "    <tr>\n",
       "      <th>291288</th>\n",
       "      <td>291288</td>\n",
       "      <td>sensationall_</td>\n",
       "      <td>2022-07-15 13:02:42+00:00</td>\n",
       "      <td>Pay day has not been as rewarding as it used t...</td>\n",
       "      <td>60534</td>\n",
       "      <td>27827</td>\n",
       "      <td>7005</td>\n",
       "      <td>27</td>\n",
       "      <td>NaN</td>\n",
       "      <td>en</td>\n",
       "      <td>34859</td>\n",
       "      <td>2022</td>\n",
       "      <td>7</td>\n",
       "      <td>4</td>\n",
       "    </tr>\n",
       "    <tr>\n",
       "      <th>103299</th>\n",
       "      <td>103299</td>\n",
       "      <td>Cernovich</td>\n",
       "      <td>2022-07-28 02:11:54+00:00</td>\n",
       "      <td>The White House put out a blog saying that the...</td>\n",
       "      <td>83664</td>\n",
       "      <td>26565</td>\n",
       "      <td>6535</td>\n",
       "      <td>450</td>\n",
       "      <td>NaN</td>\n",
       "      <td>en</td>\n",
       "      <td>33550</td>\n",
       "      <td>2022</td>\n",
       "      <td>7</td>\n",
       "      <td>3</td>\n",
       "    </tr>\n",
       "    <tr>\n",
       "      <th>112664</th>\n",
       "      <td>112664</td>\n",
       "      <td>greg_price11</td>\n",
       "      <td>2022-07-27 20:51:59+00:00</td>\n",
       "      <td>Doocy: \"If things are going so great, why are ...</td>\n",
       "      <td>38290</td>\n",
       "      <td>24117</td>\n",
       "      <td>6087</td>\n",
       "      <td>2925</td>\n",
       "      <td>NaN</td>\n",
       "      <td>en</td>\n",
       "      <td>33129</td>\n",
       "      <td>2022</td>\n",
       "      <td>7</td>\n",
       "      <td>2</td>\n",
       "    </tr>\n",
       "    <tr>\n",
       "      <th>74871</th>\n",
       "      <td>74871</td>\n",
       "      <td>laurenboebert</td>\n",
       "      <td>2022-07-28 13:39:00+00:00</td>\n",
       "      <td>It is official, we are in a recession.\\n\\nThe ...</td>\n",
       "      <td>4553</td>\n",
       "      <td>24484</td>\n",
       "      <td>4558</td>\n",
       "      <td>3151</td>\n",
       "      <td>NaN</td>\n",
       "      <td>en</td>\n",
       "      <td>32193</td>\n",
       "      <td>2022</td>\n",
       "      <td>7</td>\n",
       "      <td>3</td>\n",
       "    </tr>\n",
       "    <tr>\n",
       "      <th>68684</th>\n",
       "      <td>68684</td>\n",
       "      <td>GOPChairwoman</td>\n",
       "      <td>2022-07-28 14:10:01+00:00</td>\n",
       "      <td>Biden inherited a recovery and created a reces...</td>\n",
       "      <td>12569</td>\n",
       "      <td>23155</td>\n",
       "      <td>4006</td>\n",
       "      <td>4145</td>\n",
       "      <td>NaN</td>\n",
       "      <td>en</td>\n",
       "      <td>31306</td>\n",
       "      <td>2022</td>\n",
       "      <td>7</td>\n",
       "      <td>3</td>\n",
       "    </tr>\n",
       "    <tr>\n",
       "      <th>123970</th>\n",
       "      <td>123970</td>\n",
       "      <td>lavern_spicer</td>\n",
       "      <td>2022-07-27 16:25:35+00:00</td>\n",
       "      <td>My favorite part of the Trump presidency was w...</td>\n",
       "      <td>9241</td>\n",
       "      <td>25572</td>\n",
       "      <td>3083</td>\n",
       "      <td>2362</td>\n",
       "      <td>NaN</td>\n",
       "      <td>en</td>\n",
       "      <td>31017</td>\n",
       "      <td>2022</td>\n",
       "      <td>7</td>\n",
       "      <td>2</td>\n",
       "    </tr>\n",
       "    <tr>\n",
       "      <th>207566</th>\n",
       "      <td>207566</td>\n",
       "      <td>SethAMandel</td>\n",
       "      <td>2022-07-25 13:54:26+00:00</td>\n",
       "      <td>It's not a recession unless it's from the Rece...</td>\n",
       "      <td>125822</td>\n",
       "      <td>25926</td>\n",
       "      <td>4559</td>\n",
       "      <td>309</td>\n",
       "      <td>NaN</td>\n",
       "      <td>en</td>\n",
       "      <td>30794</td>\n",
       "      <td>2022</td>\n",
       "      <td>7</td>\n",
       "      <td>0</td>\n",
       "    </tr>\n",
       "    <tr>\n",
       "      <th>463852</th>\n",
       "      <td>463852</td>\n",
       "      <td>DeIilaahh</td>\n",
       "      <td>2022-06-29 18:40:04+00:00</td>\n",
       "      <td>I applied for a job like week and a half ago, ...</td>\n",
       "      <td>46519</td>\n",
       "      <td>28106</td>\n",
       "      <td>1707</td>\n",
       "      <td>188</td>\n",
       "      <td>NaN</td>\n",
       "      <td>en</td>\n",
       "      <td>30001</td>\n",
       "      <td>2022</td>\n",
       "      <td>6</td>\n",
       "      <td>2</td>\n",
       "    </tr>\n",
       "    <tr>\n",
       "      <th>3315</th>\n",
       "      <td>3315</td>\n",
       "      <td>Cernovich</td>\n",
       "      <td>2022-07-28 23:11:21+00:00</td>\n",
       "      <td>Wikipedia changed the definition of recession ...</td>\n",
       "      <td>83661</td>\n",
       "      <td>21645</td>\n",
       "      <td>6792</td>\n",
       "      <td>1350</td>\n",
       "      <td>NaN</td>\n",
       "      <td>en</td>\n",
       "      <td>29787</td>\n",
       "      <td>2022</td>\n",
       "      <td>7</td>\n",
       "      <td>3</td>\n",
       "    </tr>\n",
       "  </tbody>\n",
       "</table>\n",
       "</div>"
      ],
      "text/plain": [
       "        Unnamed: 0             User              Date Created  \\\n",
       "210246      210246   DonaldJTrumpJr 2022-07-25 12:24:18+00:00   \n",
       "119961      119961      ConanOBrien 2022-07-27 18:20:13+00:00   \n",
       "131703      131703       Jim_Jordan 2022-07-27 12:31:04+00:00   \n",
       "208209      208209    laurenboebert 2022-07-25 13:35:51+00:00   \n",
       "92519        92519       Jim_Jordan 2022-07-28 12:34:09+00:00   \n",
       "192004      192004    RoryStewartUK 2022-07-25 20:30:45+00:00   \n",
       "92552        92552          cvpayne 2022-07-28 12:34:04+00:00   \n",
       "436486      436486  thebradfordfile 2022-07-01 21:26:15+00:00   \n",
       "60758        60758       DavidSacks 2022-07-28 14:55:20+00:00   \n",
       "88274        88274     JackPosobiec 2022-07-28 12:46:37+00:00   \n",
       "103035      103035  thebradfordfile 2022-07-28 02:23:40+00:00   \n",
       "291288      291288    sensationall_ 2022-07-15 13:02:42+00:00   \n",
       "103299      103299        Cernovich 2022-07-28 02:11:54+00:00   \n",
       "112664      112664     greg_price11 2022-07-27 20:51:59+00:00   \n",
       "74871        74871    laurenboebert 2022-07-28 13:39:00+00:00   \n",
       "68684        68684    GOPChairwoman 2022-07-28 14:10:01+00:00   \n",
       "123970      123970    lavern_spicer 2022-07-27 16:25:35+00:00   \n",
       "207566      207566      SethAMandel 2022-07-25 13:54:26+00:00   \n",
       "463852      463852        DeIilaahh 2022-06-29 18:40:04+00:00   \n",
       "3315          3315        Cernovich 2022-07-28 23:11:21+00:00   \n",
       "\n",
       "                                                    Tweet  Favourite Count  \\\n",
       "210246  Apparently The White House is changing the def...            27508   \n",
       "119961  The White House now says it’s only a recession...                1   \n",
       "131703  If you’re not worried about a recession, why c...             4262   \n",
       "208209  If we weren’t in a recession, the White House ...             4552   \n",
       "92519                                          Recession.             4262   \n",
       "192004  And again  Liz Truss keeps saying Levelling up...             7699   \n",
       "92552   Breaking News: Folks We Are In Recession\\n2Q22...            24126   \n",
       "436486  Biden owns this recession. He is the worst pre...           125517   \n",
       "60758   A lot of people are wondering about the defini...            29903   \n",
       "88274   Recession is when your neighbor loses his job\\...           118572   \n",
       "103035  If Trump was president, the media wouldn't be ...           125517   \n",
       "291288  Pay day has not been as rewarding as it used t...            60534   \n",
       "103299  The White House put out a blog saying that the...            83664   \n",
       "112664  Doocy: \"If things are going so great, why are ...            38290   \n",
       "74871   It is official, we are in a recession.\\n\\nThe ...             4553   \n",
       "68684   Biden inherited a recovery and created a reces...            12569   \n",
       "123970  My favorite part of the Trump presidency was w...             9241   \n",
       "207566  It's not a recession unless it's from the Rece...           125822   \n",
       "463852  I applied for a job like week and a half ago, ...            46519   \n",
       "3315    Wikipedia changed the definition of recession ...            83661   \n",
       "\n",
       "        Number of Likes  Retweeet Count  Reply Count  Retweeted Tweet  \\\n",
       "210246            74318           12558         6189              NaN   \n",
       "119961            71836            8465         1789              NaN   \n",
       "131703            47585            7660         6057              NaN   \n",
       "208209            46430            8650         3181              NaN   \n",
       "92519             38188            5536        12776              NaN   \n",
       "192004            46150            7969         1312              NaN   \n",
       "92552             33739            7473         1761              NaN   \n",
       "436486            34521            4721         1017              NaN   \n",
       "60758             31210            5817          854              NaN   \n",
       "88274             29859            6561          414              NaN   \n",
       "103035            29939            4317          735              NaN   \n",
       "291288            27827            7005           27              NaN   \n",
       "103299            26565            6535          450              NaN   \n",
       "112664            24117            6087         2925              NaN   \n",
       "74871             24484            4558         3151              NaN   \n",
       "68684             23155            4006         4145              NaN   \n",
       "123970            25572            3083         2362              NaN   \n",
       "207566            25926            4559          309              NaN   \n",
       "463852            28106            1707          188              NaN   \n",
       "3315              21645            6792         1350              NaN   \n",
       "\n",
       "       Language  scores  Year  Month  Weekday  \n",
       "210246       en   93065  2022      7        0  \n",
       "119961       en   82090  2022      7        2  \n",
       "131703       en   61302  2022      7        2  \n",
       "208209       en   58261  2022      7        0  \n",
       "92519        en   56500  2022      7        3  \n",
       "192004       en   55431  2022      7        0  \n",
       "92552        en   42973  2022      7        3  \n",
       "436486       en   40259  2022      7        4  \n",
       "60758        en   37881  2022      7        3  \n",
       "88274        en   36834  2022      7        3  \n",
       "103035       en   34991  2022      7        3  \n",
       "291288       en   34859  2022      7        4  \n",
       "103299       en   33550  2022      7        3  \n",
       "112664       en   33129  2022      7        2  \n",
       "74871        en   32193  2022      7        3  \n",
       "68684        en   31306  2022      7        3  \n",
       "123970       en   31017  2022      7        2  \n",
       "207566       en   30794  2022      7        0  \n",
       "463852       en   30001  2022      6        2  \n",
       "3315         en   29787  2022      7        3  "
      ]
     },
     "execution_count": 70,
     "metadata": {},
     "output_type": "execute_result"
    }
   ],
   "source": [
    "# Add columns with year, month, and weekday name\n",
    "top_tweets['Year'] = pd.DatetimeIndex(top_tweets['Date Created']).year\n",
    "top_tweets['Month'] = pd.DatetimeIndex(top_tweets['Date Created']).month\n",
    "top_tweets['Weekday'] = pd.DatetimeIndex(top_tweets['Date Created']).weekday\n",
    "\n",
    "top_tweets.head(20)\n"
   ]
  },
  {
   "cell_type": "code",
   "execution_count": 71,
   "metadata": {},
   "outputs": [],
   "source": [
    "top_tweets.to_csv('WeekdayColumns.csv')"
   ]
  },
  {
   "cell_type": "markdown",
   "metadata": {},
   "source": [
    "# Weekday Analysis overall tweets"
   ]
  },
  {
   "cell_type": "code",
   "execution_count": 72,
   "metadata": {},
   "outputs": [
    {
     "data": {
      "text/html": [
       "<div>\n",
       "<style scoped>\n",
       "    .dataframe tbody tr th:only-of-type {\n",
       "        vertical-align: middle;\n",
       "    }\n",
       "\n",
       "    .dataframe tbody tr th {\n",
       "        vertical-align: top;\n",
       "    }\n",
       "\n",
       "    .dataframe thead th {\n",
       "        text-align: right;\n",
       "    }\n",
       "</style>\n",
       "<table border=\"1\" class=\"dataframe\">\n",
       "  <thead>\n",
       "    <tr style=\"text-align: right;\">\n",
       "      <th></th>\n",
       "      <th>Weekday</th>\n",
       "      <th>Tweet</th>\n",
       "    </tr>\n",
       "  </thead>\n",
       "  <tbody>\n",
       "    <tr>\n",
       "      <th>0</th>\n",
       "      <td>Sunday</td>\n",
       "      <td>67723</td>\n",
       "    </tr>\n",
       "    <tr>\n",
       "      <th>1</th>\n",
       "      <td>Monday</td>\n",
       "      <td>82776</td>\n",
       "    </tr>\n",
       "    <tr>\n",
       "      <th>2</th>\n",
       "      <td>Tuesday</td>\n",
       "      <td>83170</td>\n",
       "    </tr>\n",
       "    <tr>\n",
       "      <th>3</th>\n",
       "      <td>Wednesday</td>\n",
       "      <td>154192</td>\n",
       "    </tr>\n",
       "    <tr>\n",
       "      <th>4</th>\n",
       "      <td>Thursday</td>\n",
       "      <td>46116</td>\n",
       "    </tr>\n",
       "    <tr>\n",
       "      <th>5</th>\n",
       "      <td>Friday</td>\n",
       "      <td>31536</td>\n",
       "    </tr>\n",
       "    <tr>\n",
       "      <th>6</th>\n",
       "      <td>Saturday</td>\n",
       "      <td>34488</td>\n",
       "    </tr>\n",
       "  </tbody>\n",
       "</table>\n",
       "</div>"
      ],
      "text/plain": [
       "     Weekday   Tweet\n",
       "0     Sunday   67723\n",
       "1     Monday   82776\n",
       "2    Tuesday   83170\n",
       "3  Wednesday  154192\n",
       "4   Thursday   46116\n",
       "5     Friday   31536\n",
       "6   Saturday   34488"
      ]
     },
     "execution_count": 72,
     "metadata": {},
     "output_type": "execute_result"
    }
   ],
   "source": [
    "# week day analysis\n",
    "weeks_df = top_tweets.groupby(['Weekday']).count() \n",
    "weeks_df = weeks_df[['Tweet']]\n",
    "weeks_df.reset_index(inplace=True)\n",
    "dict_map = {0:'Sunday',1:'Monday',2:'Tuesday',3:'Wednesday',4:'Thursday',5:'Friday',6:'Saturday'}\n",
    "weeks_df['Weekday'] = weeks_df['Weekday'].replace(dict_map)\n",
    "weeks_df"
   ]
  },
  {
   "cell_type": "markdown",
   "metadata": {},
   "source": [
    "Unfortunately, this dataset is to small to show a weekly analysis since all tweets scraped are from July 18th 2022. We will need extremely larger data sets in order to get a time series analysis. 10,000 Tweets appears to be quite small."
   ]
  },
  {
   "cell_type": "code",
   "execution_count": 75,
   "metadata": {},
   "outputs": [
    {
     "data": {
      "text/plain": [
       "Text(0, 0.5, 'Number of Tweets')"
      ]
     },
     "execution_count": 75,
     "metadata": {},
     "output_type": "execute_result"
    },
    {
     "data": {
      "image/png": "[encoded data removed]",
      "text/plain": [
       "<Figure size 864x720 with 1 Axes>"
      ]
     },
     "metadata": {
      "needs_background": "light"
     },
     "output_type": "display_data"
    }
   ],
   "source": [
    "#sorter = ['0', '1', '2', '3', '4', '5', '6']\n",
    "#sorterIndex = dict(zip(sorter,range(len(sorter))))\n",
    "\n",
    "weeks_df['Day_id'] = weeks_df.index\n",
    "#weeks_df['Day_id'] = weeks_df['Day_id'].map(sorterIndex)\n",
    "weeks_df.sort_values('Day_id', inplace=True)\n",
    "\n",
    "\n",
    "# now lets see some of the busy days of the week.\n",
    "plt.figure(figsize=(12,10))\n",
    "sns.lineplot(x = weeks_df.Weekday, y = weeks_df.Tweet)\n",
    "plt.title('A lineplot plot showing tweets distribution across the weeks')\n",
    "plt.xticks(rotation=45)\n",
    "plt.xlabel('Day of the week')\n",
    "plt.ylabel('Number of Tweets')"
   ]
  }
 ],
 "metadata": {
  "kernelspec": {
   "display_name": "Python 3 (ipykernel)",
   "language": "python",
   "name": "python3"
  },
  "language_info": {
   "codemirror_mode": {
    "name": "ipython",
    "version": 3
   },
   "file_extension": ".py",
   "mimetype": "text/x-python",
   "name": "python",
   "nbconvert_exporter": "python",
   "pygments_lexer": "ipython3",
   "version": "3.9.12"
  },
  "vscode": {
   "interpreter": {
    "hash": "e0789ddd0c4a09eff1414f4330ec4c0b693d57205b3f32ba5e8cc52414764d10"
   }
  }
 },
 "nbformat": 4,
 "nbformat_minor": 2
}
